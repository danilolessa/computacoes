{
 "cells": [
  {
   "cell_type": "code",
   "execution_count": 2,
   "metadata": {
    "collapsed": false
   },
   "outputs": [],
   "source": [
    "from facepy import GraphAPI"
   ]
  },
  {
   "cell_type": "code",
   "execution_count": 3,
   "metadata": {
    "collapsed": true
   },
   "outputs": [],
   "source": [
    "graph = GraphAPI(\"EAACEdEose0cBAN3CLVBnUyWNIQoHU9FUPNZA3jICBU6l91HS7D8m5ZBJrARN3neKRvHESxBDdszeRAPUKOrewJqMzazjwfVAwsCNg8sABBO4ymOO4KnPZCqkRBSQw0b5VeCBBUU8iNgHdPEADpRz7koChEizlZBhL1Vd0cQbzAZDZD\")"
   ]
  },
  {
   "cell_type": "code",
   "execution_count": 6,
   "metadata": {
    "collapsed": false
   },
   "outputs": [
    {
     "data": {
      "text/plain": [
       "{'data': [{'id': '10209259319070781'},\n",
       "  {'id': '10207291297471471'},\n",
       "  {'id': '10206657102937004'},\n",
       "  {'id': '10202627605522087'},\n",
       "  {'id': '10202616002352015'},\n",
       "  {'id': '10201983573701694'},\n",
       "  {'id': '10201983539220832'},\n",
       "  {'id': '10201819508880176'},\n",
       "  {'id': '4091400934130'},\n",
       "  {'id': '4091323572196'},\n",
       "  {'id': '3805930437546'},\n",
       "  {'id': '3292542323164'},\n",
       "  {'id': '3171272011482'},\n",
       "  {'id': '2318335808610'},\n",
       "  {'id': '3109845355854'},\n",
       "  {'id': '2998815540178'},\n",
       "  {'id': '2998804859911'},\n",
       "  {'id': '2998804739908'},\n",
       "  {'id': '2998797419725'},\n",
       "  {'id': '2998797379724'},\n",
       "  {'id': '2756744528554'},\n",
       "  {'id': '2340222595766'},\n",
       "  {'id': '2329314163062'},\n",
       "  {'id': '2318335848611'},\n",
       "  {'id': '2318335768609'}],\n",
       " 'paging': {'next': 'https://graph.facebook.com/v2.8/10203729962800330/friendlists?access_token=EAACEdEose0cBAN3CLVBnUyWNIQoHU9FUPNZA3jICBU6l91HS7D8m5ZBJrARN3neKRvHESxBDdszeRAPUKOrewJqMzazjwfVAwsCNg8sABBO4ymOO4KnPZCqkRBSQw0b5VeCBBUU8iNgHdPEADpRz7koChEizlZBhL1Vd0cQbzAZDZD&limit=25&offset=25&__after_id=enc_AdA5ZCTEVM1XfqinBqLZC6jo0zrtZC5dApx5UcR7PepDcO7YDfR2sAXzG36k6sYyTUPX7AZD'}}"
      ]
     },
     "execution_count": 6,
     "metadata": {},
     "output_type": "execute_result"
    }
   ],
   "source": [
    "graph.get(\"v2.8/me/friendlists\")"
   ]
  },
  {
   "cell_type": "code",
   "execution_count": null,
   "metadata": {
    "collapsed": true
   },
   "outputs": [],
   "source": []
  }
 ],
 "metadata": {
  "kernelspec": {
   "display_name": "Python 3",
   "language": "python",
   "name": "python3"
  },
  "language_info": {
   "codemirror_mode": {
    "name": "ipython",
    "version": 3
   },
   "file_extension": ".py",
   "mimetype": "text/x-python",
   "name": "python",
   "nbconvert_exporter": "python",
   "pygments_lexer": "ipython3",
   "version": "3.5.2"
  }
 },
 "nbformat": 4,
 "nbformat_minor": 1
}
