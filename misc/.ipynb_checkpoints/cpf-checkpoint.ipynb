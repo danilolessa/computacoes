{
 "cells": [
  {
   "cell_type": "code",
   "execution_count": 75,
   "metadata": {
    "collapsed": true
   },
   "outputs": [],
   "source": [
    "import numpy as np\n",
    "import re"
   ]
  },
  {
   "cell_type": "code",
   "execution_count": 143,
   "metadata": {
    "collapsed": false
   },
   "outputs": [],
   "source": [
    "def valida_cpf(cpf):\n",
    "    cpf = \"\".join(filter(lambda x: x.isdigit(), cpf))\n",
    "    \n",
    "    if len(cpf) == 11:\n",
    "        cpf1 = cpf[:-2]\n",
    "    elif len(cpf) == 10:\n",
    "        cpf1 = cpf[:-1]\n",
    "    elif len(cpf) == 9:\n",
    "        cpf1 = cpf\n",
    "    else:\n",
    "        print(\"erro\")\n",
    "        return \"\"\n",
    "    \n",
    "    somatorio = 0\n",
    "    for d in cpf:\n",
    "        somatorio += int(d)\n",
    "    print(somatorio)\n",
    "    \n",
    "    somatorio = 0\n",
    "    i = 0\n",
    "    for d in cpf1:\n",
    "        somatorio += int(d) * (10 - i)\n",
    "        i += 1\n",
    "\n",
    "    resto = somatorio % 11\n",
    "    if resto < 2:\n",
    "        digito1 = 0\n",
    "    else:\n",
    "        digito1 = 11 - resto\n",
    "    print(digito1)\n",
    "    \n",
    "    cpf2 = cpf1 + str(digito1)\n",
    "    somatorio = 0\n",
    "    i = 0\n",
    "    for d in cpf2:\n",
    "        somatorio += int(d) * (11 - i)\n",
    "        i += 1\n",
    "\n",
    "    resto = somatorio % 11\n",
    "    if resto < 2:\n",
    "        digito2 = 0\n",
    "    else:\n",
    "        digito2 = 11 - resto\n",
    "    print(digito2)"
   ]
  },
  {
   "cell_type": "code",
   "execution_count": 250,
   "metadata": {
    "collapsed": true
   },
   "outputs": [],
   "source": [
    "cpf = \"666.43.3404-62\""
   ]
  },
  {
   "cell_type": "code",
   "execution_count": 251,
   "metadata": {
    "collapsed": false
   },
   "outputs": [
    {
     "name": "stdout",
     "output_type": "stream",
     "text": [
      "44\n",
      "6\n",
      "2\n"
     ]
    }
   ],
   "source": [
    "valida_cpf(cpf)"
   ]
  },
  {
   "cell_type": "code",
   "execution_count": 41,
   "metadata": {
    "collapsed": false
   },
   "outputs": [
    {
     "data": {
      "text/plain": [
       "3"
      ]
     },
     "execution_count": 41,
     "metadata": {},
     "output_type": "execute_result"
    }
   ],
   "source": [
    "somatorio % 11"
   ]
  },
  {
   "cell_type": "code",
   "execution_count": 38,
   "metadata": {
    "collapsed": false
   },
   "outputs": [
    {
     "data": {
      "text/plain": [
       "'009701142'"
      ]
     },
     "execution_count": 38,
     "metadata": {},
     "output_type": "execute_result"
    }
   ],
   "source": [
    "cpf1"
   ]
  },
  {
   "cell_type": "code",
   "execution_count": 71,
   "metadata": {
    "collapsed": true
   },
   "outputs": [],
   "source": [
    "?cpf"
   ]
  },
  {
   "cell_type": "code",
   "execution_count": null,
   "metadata": {
    "collapsed": true
   },
   "outputs": [],
   "source": []
  }
 ],
 "metadata": {
  "kernelspec": {
   "display_name": "Python 3",
   "language": "python",
   "name": "python3"
  },
  "language_info": {
   "codemirror_mode": {
    "name": "ipython",
    "version": 3
   },
   "file_extension": ".py",
   "mimetype": "text/x-python",
   "name": "python",
   "nbconvert_exporter": "python",
   "pygments_lexer": "ipython3",
   "version": "3.5.2"
  }
 },
 "nbformat": 4,
 "nbformat_minor": 1
}
