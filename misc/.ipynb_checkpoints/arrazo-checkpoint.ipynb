{
 "cells": [
  {
   "cell_type": "code",
   "execution_count": null,
   "metadata": {
    "collapsed": true
   },
   "outputs": [],
   "source": [
    "#Dependências"
   ]
  },
  {
   "cell_type": "code",
   "execution_count": null,
   "metadata": {
    "collapsed": true
   },
   "outputs": [],
   "source": [
    "#Definições dos objetos usados\n",
    "\n",
    "class arrazo_day():\n",
    "    timeline = None\n",
    "    questions = None\n",
    "\n",
    "class timeline():\n",
    "    \n",
    "    def append(self):\n",
    "        return None\n",
    "    \n",
    "class questions():\n",
    "    q1 = None\n",
    "    q2 = None\n",
    "    q3 = None\n",
    "    q4 = None\n",
    "    q5 = None\n",
    "    q6 = None\n",
    "    q7 = None\n",
    "    \n",
    "    def append(self):\n",
    "        return None"
   ]
  },
  {
   "cell_type": "code",
   "execution_count": null,
   "metadata": {
    "collapsed": true
   },
   "outputs": [],
   "source": [
    "#Processamento\n",
    "\n",
    "filepath = \"arrazo.dat\"\n",
    "days = []\n",
    "current_day = None\n",
    "with open(filepath, \"r\") as file:\n",
    "    for line in file.readline():\n",
    "        first_char = line0\n",
    "        if first_char == \"@\":\n",
    "            if current_day is not None:\n",
    "                days.append(current_day)\n",
    "            current_day = arrazo_day(line)\n",
    "        elif first_char == \"$\":\n",
    "            current_day.timeline.append(line)\n",
    "        elif first_char == \"(\":\n",
    "            current_day.questions.append(line)"
   ]
  }
 ],
 "metadata": {
  "kernelspec": {
   "display_name": "Python 3",
   "language": "python",
   "name": "python3"
  },
  "language_info": {
   "codemirror_mode": {
    "name": "ipython",
    "version": 3
   },
   "file_extension": ".py",
   "mimetype": "text/x-python",
   "name": "python",
   "nbconvert_exporter": "python",
   "pygments_lexer": "ipython3",
   "version": "3.4.2"
  }
 },
 "nbformat": 4,
 "nbformat_minor": 1
}
