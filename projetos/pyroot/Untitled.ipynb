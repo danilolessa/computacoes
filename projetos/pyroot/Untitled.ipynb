{
 "cells": [
  {
   "cell_type": "code",
   "execution_count": 13,
   "metadata": {
    "collapsed": true
   },
   "outputs": [],
   "source": [
    "%matplotlib inline\n",
    "import numpy as np\n",
    "import matplotlib.pyplot as plt"
   ]
  },
  {
   "cell_type": "code",
   "execution_count": 14,
   "metadata": {
    "collapsed": false
   },
   "outputs": [],
   "source": [
    "def f(x, a, b):\n",
    "    return a*x / (a*x + b*(1-x))\n",
    "\n",
    "def g(x, a, b):\n",
    "    return b*x / (1-(a*x + b*(1-x)))"
   ]
  },
  {
   "cell_type": "code",
   "execution_count": 15,
   "metadata": {
    "collapsed": false
   },
   "outputs": [
    {
     "name": "stdout",
     "output_type": "stream",
     "text": [
      "Probabilidade de estar doente dado o teste positivo: 0.9245283018867924\n",
      "Probabilidade de estar doente dado o teste negativo: 0.005076142131979699\n",
      "Razão: 182.13207547169796\n"
     ]
    }
   ],
   "source": [
    "incidencia = 0.20\n",
    "sensibilidade = 0.98\n",
    "especifidade_inv = 1 - 0.98\n",
    "\n",
    "c = f(incidencia, sensibilidade, especifidade_inv)\n",
    "d = g(incidencia, sensibilidade, especifidade_inv)\n",
    "text = \"Probabilidade de estar doente dado o teste positivo: %s\\nProbabilidade de estar doente dado o teste negativo: %s\\nRazão: %s\" % (c, d, c/d)\n",
    "print(text)"
   ]
  },
  {
   "cell_type": "code",
   "execution_count": 21,
   "metadata": {
    "collapsed": false
   },
   "outputs": [
    {
     "data": {
      "image/png": "[encoded data removed]",
      "text/plain": [
       "<matplotlib.figure.Figure at 0x7ff20025e6a0>"
      ]
     },
     "metadata": {},
     "output_type": "display_data"
    }
   ],
   "source": [
    "N = 1e4\n",
    "x = np.linspace(0, 1, N)\n",
    "y = f(0., 0.99, 0.01)\n",
    "plt.plot(x, y)\n",
    "plt.show()"
   ]
  },
  {
   "cell_type": "code",
   "execution_count": null,
   "metadata": {
    "collapsed": true
   },
   "outputs": [],
   "source": []
  }
 ],
 "metadata": {
  "kernelspec": {
   "display_name": "Python 3",
   "language": "python",
   "name": "python3"
  },
  "language_info": {
   "codemirror_mode": {
    "name": "ipython",
    "version": 3
   },
   "file_extension": ".py",
   "mimetype": "text/x-python",
   "name": "python",
   "nbconvert_exporter": "python",
   "pygments_lexer": "ipython3",
   "version": "3.5.1+"
  }
 },
 "nbformat": 4,
 "nbformat_minor": 0
}
