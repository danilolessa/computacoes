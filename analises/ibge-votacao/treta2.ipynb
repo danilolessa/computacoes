{
 "cells": [
  {
   "cell_type": "code",
   "execution_count": 88,
   "metadata": {
    "collapsed": true
   },
   "outputs": [],
   "source": [
    "import pandas as pd\n",
    "import numpy as np\n",
    "from scipy import stats\n",
    "import os\n",
    "import matplotlib.pyplot as plt\n",
    "\n",
    "UF = \"SP\"\n",
    "\n",
    "#dados dos candidatos\n",
    "path_consultacand = \"consulta_cand_2014/consulta_cand_2014_%s.txt\" % UF\n",
    "\n",
    "#bens dos candidatos\n",
    "path_bemcand = \"bem_candidato_2014/bem_candidato_2014_%s.txt\" % UF\n",
    "\n",
    "#prestacao de contas dos candidatos\n",
    "path_prestacao = \"prestacao_final_2014/despesas_candidatos_2014_%s.txt\"  % UF\n",
    "\n",
    "path_votacao = \"votacao_candidato_munzona_2014/votacao_candidato_munzona_2014_%s.txt\" % UF\n",
    "\n",
    "cargo_filt = \"Deputado Estadual\""
   ]
  },
  {
   "cell_type": "code",
   "execution_count": 89,
   "metadata": {
    "collapsed": false
   },
   "outputs": [],
   "source": [
    "#carregar os dados dos candidatos\n",
    "names_cand = [\"data\", \"hora\", \"ano\", \"turno\", \"desc\", \"uf\", \"ue\", \"estado\", \"cod_cargo\", \"cargo\", \"nome\",\n",
    "              \"seq\", \"id\", \"cpf\", \"nome_urna\", \"cod_situ\", \"desc_situ\", \"num_partido\",\n",
    "             \"sigla_partido\", \"nome_partido\", \"codigo_legenda\", \"sigla_legenda\", \"composicao_legenda\",\n",
    "             \"nome_legenda\", \"codigo_ocupacao\", \"desc_ocupacao\", \"data_nasc\", \"titulo_eleitoral\",\n",
    "             \"idade\", \"cod_sexo\", \"desc_sexo\", \"cod_instrucao\", \"instrucao\", \"cod_civil\", \"civil\",\n",
    "             \"cor_cor\", \"cor\", \"cod_nacional\", \"nacional\", \"sigla_uf_natal\"\n",
    "              , \"cod_mun_natal\", \"mun_natal\", \"despesa_maxima\", \"cod_sit_tot\", \"desc_sit_tot\",\n",
    "             \"email\"]\n",
    "dat_cand = pd.read_csv(path_consultacand, delimiter=';', encoding=\"latin-1\", names=names_cand)\n",
    "\n",
    "dat_cand = dat_cand[dat_cand.cargo == cargo_filt.upper()]"
   ]
  },
  {
   "cell_type": "code",
   "execution_count": 90,
   "metadata": {
    "collapsed": false
   },
   "outputs": [],
   "source": [
    "#carregar os bens dos candidatos\n",
    "names_bem = [\"data\", \"hora\", \"ano\", \"desc\", \"uf\", \"seq\", \"cod_bem\",\n",
    "             \"desc_bem\", \"detalhe_bem\", \"valor\", \"data_atu\", \"hora_atu\"]\n",
    "dat_bens = pd.read_csv(path_bemcand, delimiter=';', encoding=\"latin-1\", names=names_bem)"
   ]
  },
  {
   "cell_type": "code",
   "execution_count": 91,
   "metadata": {
    "collapsed": false
   },
   "outputs": [],
   "source": [
    "#fazer uma lista dos bens totais dos candidaos\n",
    "candidatos = np.unique(dat_cand.seq)\n",
    "bens = np.zeros(len(candidatos))\n",
    "seqs = np.zeros(len(candidatos))\n",
    "i = 0\n",
    "for candidato in candidatos:\n",
    "    seqs[i] = candidato\n",
    "    bens[i] = np.sum(dat_bens[dat_bens.seq == candidato].valor)\n",
    "    i += 1"
   ]
  },
  {
   "cell_type": "code",
   "execution_count": 92,
   "metadata": {
    "collapsed": false
   },
   "outputs": [
    {
     "name": "stderr",
     "output_type": "stream",
     "text": [
      "/usr/local/lib/python3.5/dist-packages/IPython/core/interactiveshell.py:2723: DtypeWarning: Columns (13) have mixed types. Specify dtype option on import or set low_memory=False.\n",
      "  interactivity=interactivity, compiler=compiler, result=result)\n"
     ]
    }
   ],
   "source": [
    "#carregar a prestacao dos candidatos\n",
    "names_prestacao = [\"cod_eleicao\", \"desc_eleicao\", \"data_hora\", \"cnpj_prestador\", \"seq\", \"uf\",\n",
    "                   \"sigla_partido\", \"id\", \"cargo\", \"nome\", \"cpf\", \"tipo_doc\", \"num_doc\",\n",
    "                  \"id_fornecedor\", \"nome_fornecedor\",\"nome_fornecedor_receita\" ,\"cod_se_fornecedor\",\n",
    "                  \"setor_fornecedor\", \"data_despesa\", \"valor\", \"tipo\", \"descricao\"]\n",
    "dat_prestacao = pd.read_csv(path_prestacao, header=0, delimiter=\";\", encoding=\"latin-1\",\n",
    "                            names = names_prestacao, decimal=\",\")"
   ]
  },
  {
   "cell_type": "code",
   "execution_count": 93,
   "metadata": {
    "collapsed": false
   },
   "outputs": [],
   "source": [
    "candidatos = np.unique(dat_cand.seq)\n",
    "prestacoes = np.zeros(len(candidatos))\n",
    "seqs = np.zeros(len(candidatos))\n",
    "i = 0\n",
    "for candidato in candidatos:\n",
    "    seqs[i] = candidato\n",
    "    prestacoes[i] = np.sum(dat_prestacao[dat_prestacao.seq == candidato].valor)\n",
    "    i += 1"
   ]
  },
  {
   "cell_type": "code",
   "execution_count": 94,
   "metadata": {
    "collapsed": false
   },
   "outputs": [],
   "source": [
    "names_votacao = [\"data\", \"hora\", \"ano\", \"turno\", \"desc\", \"uf\", \"ue\", \"cod_mun\", \"nome_mun\", \"zona\",\n",
    "                 \"cod_cargo\", \"num_cand\", \"seq\", \"nome\", \"nome_urna\", \"cargo\", \"cod_situ_s\", \"desc_situ_s\",\n",
    "                \"cod_situ\", \"desc_situ\", \"cod_tot\", \"desc_tot\", \"num_partido\", \"sigla_partido\", \n",
    "                \"nome_partido\", \"seq_partido\", \"coligacao\", \"legenda\", \"votos\", \"transito\"]\n",
    "dat_voto = pd.read_csv(path_votacao, delimiter=';', encoding=\"latin-1\", names=names_votacao)"
   ]
  },
  {
   "cell_type": "code",
   "execution_count": 95,
   "metadata": {
    "collapsed": false
   },
   "outputs": [],
   "source": [
    "candidatos = np.unique(dat_cand.seq)\n",
    "votos = np.zeros(len(candidatos))\n",
    "seqs = np.zeros(len(candidatos))\n",
    "i = 0\n",
    "for candidato in candidatos:\n",
    "    seqs[i] = candidato\n",
    "    votos[i] = np.sum(dat_voto[dat_voto.seq == candidato].votos)\n",
    "    i += 1"
   ]
  },
  {
   "cell_type": "code",
   "execution_count": 99,
   "metadata": {
    "collapsed": true
   },
   "outputs": [],
   "source": [
    "tipos = np.unique(dat_prestacao.tipo)\n",
    "valor_tip = []\n",
    "for tip in tipos:\n",
    "    valor_tip.append(np.sum(dat_prestacao[dat_prestacao.tipo == tip].valor))    "
   ]
  },
  {
   "cell_type": "code",
   "execution_count": 100,
   "metadata": {
    "collapsed": false
   },
   "outputs": [],
   "source": [
    "valor_tip = np.array(valor_tip)\n",
    "#valor_tip = valor_tip / np.sum(valor_tip)\n",
    "tab = np.vstack([tipos, valor_tip]).T\n",
    "tab = pd.DataFrame(tab, columns=[\"tipo\", \"valor\"]).sort_values(\"valor\", ascending=False)\n",
    "tab.to_csv(\"abs_tipo-gastos_dep-est_SP.csv\")"
   ]
  },
  {
   "cell_type": "code",
   "execution_count": 9,
   "metadata": {
    "collapsed": false
   },
   "outputs": [],
   "source": [
    "(x, y) = (prestacoes, votos)\n",
    "filt = (x != 0) & (y != 0)\n",
    "x = np.log10(np.array(x[filt]))\n",
    "y = np.log10(np.array(y[filt]))\n",
    "fit = np.polyfit(x, y, deg=1, cov=True)"
   ]
  },
  {
   "cell_type": "code",
   "execution_count": 10,
   "metadata": {
    "collapsed": false
   },
   "outputs": [],
   "source": [
    "p0 = fit[0][0]\n",
    "p1 = fit[0][1]\n",
    "\n",
    "s0 = (fit[1][0,0])\n",
    "s1 = (fit[1][1,1])"
   ]
  },
  {
   "cell_type": "code",
   "execution_count": 11,
   "metadata": {
    "collapsed": false
   },
   "outputs": [],
   "source": [
    "#plt.hist2d(x, y, bins=30)\n",
    "#plt.colorbar()\n",
    "plt.scatter(x, y)\n",
    "#plt.plot(x, (p0 + s0) * x + (p1+s1), 'k--')\n",
    "plt.plot(x, p0 * x + p1, 'r-')\n",
    "#plt.plot(x, (p0 - s0) * x + (p1-s1), 'k--')\n",
    "plt.title(\"Votos obtidos nas eleições vs prestação de contas (%s - %s)\" % (cargo_filt, UF))\n",
    "plt.xlabel(\"Prestações das contas - log10[x] - R$\")\n",
    "plt.ylabel(\"Quantidade de votos - log10[x]\")\n",
    "plt.show()"
   ]
  },
  {
   "cell_type": "code",
   "execution_count": null,
   "metadata": {
    "collapsed": false
   },
   "outputs": [],
   "source": [
    " (2 ** 1/p0)"
   ]
  },
  {
   "cell_type": "markdown",
   "metadata": {},
   "source": [
    "#deputado estadual SP\n",
    "p0 = 0.67655917254413789\n",
    "p1 = 0.42138786401850464\n",
    "\n",
    "#deputado federal SP\n",
    "p0 = 0.69529230273514808\n",
    "p1 = 0.40946995135512709\n",
    "\n",
    "#deputado estadual RO\n",
    "\n",
    "#deputado federal RO\n",
    "p0 = 0.60804182639112947\n",
    "p1 = 0.67582003213090802"
   ]
  },
  {
   "cell_type": "code",
   "execution_count": null,
   "metadata": {
    "collapsed": true
   },
   "outputs": [],
   "source": []
  }
 ],
 "metadata": {
  "kernelspec": {
   "display_name": "Python 3",
   "language": "python",
   "name": "python3"
  },
  "language_info": {
   "codemirror_mode": {
    "name": "ipython",
    "version": 3
   },
   "file_extension": ".py",
   "mimetype": "text/x-python",
   "name": "python",
   "nbconvert_exporter": "python",
   "pygments_lexer": "ipython3",
   "version": "3.5.1+"
  }
 },
 "nbformat": 4,
 "nbformat_minor": 0
}
