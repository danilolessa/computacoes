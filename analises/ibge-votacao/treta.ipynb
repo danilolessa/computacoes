{
 "cells": [
  {
   "cell_type": "code",
   "execution_count": 1,
   "metadata": {
    "collapsed": true
   },
   "outputs": [],
   "source": [
    "import pandas as pd\n",
    "import matplotlib.pyplot as plt\n",
    "import numpy as np\n",
    "import os\n",
    "from scipy import stats\n",
    "ibge_path = \"censo_uf/\""
   ]
  },
  {
   "cell_type": "code",
   "execution_count": 2,
   "metadata": {
    "collapsed": false
   },
   "outputs": [],
   "source": [
    "#carregar dados do ibge\n",
    "ibge_names = [\"municipio\", \"total\", \"semfund\", \"fund\", \"med\", \"sup\", \"nd\", \"codigo\"]\n",
    "df = []\n",
    "for i in range(1, 28):\n",
    "    filepath = ibge_path + (\"Tabela 2.%s.5.4.xls\" % (str(i)))\n",
    "    raw = pd.read_excel(filepath, names=ibge_names)[6:-2]\n",
    "    df.append(raw)\n",
    "df = pd.concat(df)"
   ]
  },
  {
   "cell_type": "code",
   "execution_count": 3,
   "metadata": {
    "collapsed": false
   },
   "outputs": [],
   "source": [
    "#carregar votacao\n",
    "vota_path = \"eleicao/votacao_secao_2014_BR.txt\"\n",
    "vota_names = [\"data\", \"hora\", \"ano\", \"turno\", \"desc\",\n",
    "              \"uf\", \"ue\", \"cod_mun\", \"municipio\", \"zona\",\n",
    "              \"secao\", \"cod_cargo\", \"cargo\", \"partido\", \"votos\"]\n",
    "raw = pd.read_csv(vota_path, delimiter=\";\", names=vota_names, encoding=\"latin-1\")"
   ]
  },
  {
   "cell_type": "code",
   "execution_count": null,
   "metadata": {
    "collapsed": true
   },
   "outputs": [],
   "source": [
    "segundo_turno = raw[raw.turno == 2]"
   ]
  },
  {
   "cell_type": "code",
   "execution_count": null,
   "metadata": {
    "collapsed": false
   },
   "outputs": [
    {
     "name": "stdout",
     "output_type": "stream",
     "text": [
      "5009\n"
     ]
    }
   ],
   "source": [
    "N = len(df.municipio)\n",
    "resul = np.zeros((N, 4))\n",
    "\n",
    "i = 0\n",
    "for cid in df.iterrows():\n",
    "    frac = (cid[1].sup / cid[1].total)\n",
    "    cidade = cid[1].municipio\n",
    "    city_dat = segundo_turno[segundo_turno.municipio == cidade.upper()]\n",
    "    dilma_v = np.sum(city_dat[city_dat.partido == 13].votos)\n",
    "    aecio_v = np.sum(city_dat[city_dat.partido == 45].votos)\n",
    "    total_v = np.sum(city_dat.votos)\n",
    "    resul[i] = [frac, dilma_v, aecio_v, total_v]\n",
    "    i += 1\n",
    "    if(i % np.floor(N/10) == 0):\n",
    "        print(N - i)"
   ]
  },
  {
   "cell_type": "code",
   "execution_count": null,
   "metadata": {
    "collapsed": false
   },
   "outputs": [],
   "source": [
    "resul_df = pd.DataFrame(resul, columns=[\"frac_superior\", \"dilma\", \"aecio\", \"total\"])"
   ]
  },
  {
   "cell_type": "code",
   "execution_count": null,
   "metadata": {
    "collapsed": false
   },
   "outputs": [],
   "source": [
    "resul_df = resul_df[(resul_df.dilma > 0) & (resul_df.aecio > 0)]\n",
    "frac_voto = resul_df.aecio / (resul_df.aecio + resul_df.dilma)\n",
    "(x, y) = (frac_voto, resul_df.frac_superior)"
   ]
  },
  {
   "cell_type": "code",
   "execution_count": null,
   "metadata": {
    "collapsed": false
   },
   "outputs": [],
   "source": [
    "#plt.scatter(y=y, x=x, marker='.')\n",
    "plt.hist2d(x,y,bins=50)\n",
    "plt.colorbar(label=\"Quantidade de municipios\")\n",
    "plt.xlim(0, 1)\n",
    "plt.ylim(0, 0.3)\n",
    "plt.title(\"Instrução superior nos municípios vs opção de voto em 2014\")\n",
    "plt.ylabel(\"Fração da população com ensino superior\")\n",
    "plt.xlabel(\"Fração dos que votaram no Aécio em relação a Aécio+Dilma\")\n",
    "plt.show()"
   ]
  },
  {
   "cell_type": "code",
   "execution_count": 242,
   "metadata": {
    "collapsed": false
   },
   "outputs": [],
   "source": [
    "fig, ax = plt.subplots()\n",
    "fit = np.polyfit(x, y, deg=1)\n",
    "ax.plot(x, fit[0] * x + fit[1], color='red')\n",
    "ax.scatter(x, y, marker='.')\n",
    "plt.show()"
   ]
  },
  {
   "cell_type": "code",
   "execution_count": 231,
   "metadata": {
    "collapsed": false
   },
   "outputs": [],
   "source": [
    "slope, intercept, r_value, p_value, std_err = stats.linregress(x,y)"
   ]
  },
  {
   "cell_type": "code",
   "execution_count": 239,
   "metadata": {
    "collapsed": false
   },
   "outputs": [
    {
     "data": {
      "text/plain": [
       "0.048325148724178722"
      ]
     },
     "execution_count": 239,
     "metadata": {},
     "output_type": "execute_result"
    }
   ],
   "source": [
    "slope * 0.5 + intercept"
   ]
  },
  {
   "cell_type": "code",
   "execution_count": 240,
   "metadata": {
    "collapsed": false
   },
   "outputs": [
    {
     "data": {
      "text/plain": [
       "0.041784330855349723"
      ]
     },
     "execution_count": 240,
     "metadata": {},
     "output_type": "execute_result"
    }
   ],
   "source": [
    "np.mean(y)"
   ]
  },
  {
   "cell_type": "code",
   "execution_count": null,
   "metadata": {
    "collapsed": true
   },
   "outputs": [],
   "source": []
  }
 ],
 "metadata": {
  "kernelspec": {
   "display_name": "Python 3",
   "language": "python",
   "name": "python3"
  },
  "language_info": {
   "codemirror_mode": {
    "name": "ipython",
    "version": 3
   },
   "file_extension": ".py",
   "mimetype": "text/x-python",
   "name": "python",
   "nbconvert_exporter": "python",
   "pygments_lexer": "ipython3",
   "version": "3.5.1+"
  }
 },
 "nbformat": 4,
 "nbformat_minor": 0
}
