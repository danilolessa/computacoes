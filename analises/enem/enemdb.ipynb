{
 "cells": [
  {
   "cell_type": "code",
   "execution_count": 97,
   "metadata": {
    "collapsed": true
   },
   "outputs": [],
   "source": [
    "import pandas as pd\n",
    "import numpy as np\n",
    "import psycopg2"
   ]
  },
  {
   "cell_type": "code",
   "execution_count": 98,
   "metadata": {
    "collapsed": false
   },
   "outputs": [],
   "source": [
    "csv = pd.read_csv(\"dicionario.csv\")"
   ]
  },
  {
   "cell_type": "code",
   "execution_count": 99,
   "metadata": {
    "collapsed": false
   },
   "outputs": [],
   "source": [
    "sqltext = \"CREATE TABLE enem2014(\"\n",
    "\n",
    "inds = ~(pd.isnull(csv.nome) | pd.isnull(csv.desc))\n",
    "csv_f = csv[inds]\n",
    "\n",
    "i = 0\n",
    "\n",
    "for i in range(0, len(csv_f)):\n",
    "    row = csv_f.iloc[i]\n",
    "    tipo = \"\"\n",
    "    if row.tipo == 'Alfanumérica':\n",
    "        tam = int(row.tamanho)\n",
    "        tipo = \"CHAR(%s)\" % tam\n",
    "    elif row.tipo == \"Numérica\":\n",
    "        tipo = \"INT\"\n",
    "        if int(row.tamanho) > 8:\n",
    "            tipo = \"BIGINT\"\n",
    "        if \"NOTA\" in row.nome:\n",
    "            tipo = \"REAL\"\n",
    "    else:\n",
    "        tipo = \"INT\"\n",
    "    sqltext += \"%s %s, \"  % (row.nome, tipo)\n",
    "sqltext += \" PRIMARY KEY(NU_INSCRICAO));\""
   ]
  },
  {
   "cell_type": "code",
   "execution_count": 100,
   "metadata": {
    "collapsed": false
   },
   "outputs": [],
   "source": [
    "conn = psycopg2.connect(\"dbname='danilo' user='danilo' host='localhost' password='2718'\")"
   ]
  },
  {
   "cell_type": "code",
   "execution_count": 101,
   "metadata": {
    "collapsed": true
   },
   "outputs": [],
   "source": [
    "cur = conn.cursor()"
   ]
  },
  {
   "cell_type": "code",
   "execution_count": 102,
   "metadata": {
    "collapsed": false
   },
   "outputs": [],
   "source": [
    "cur.execute(sqltext)"
   ]
  },
  {
   "cell_type": "code",
   "execution_count": 103,
   "metadata": {
    "collapsed": false
   },
   "outputs": [],
   "source": [
    "cur.execute(\"SELECT * FROM enem2014\")"
   ]
  },
  {
   "cell_type": "code",
   "execution_count": 104,
   "metadata": {
    "collapsed": true
   },
   "outputs": [],
   "source": [
    "conn.commit()"
   ]
  },
  {
   "cell_type": "code",
   "execution_count": null,
   "metadata": {
    "collapsed": true
   },
   "outputs": [],
   "source": []
  }
 ],
 "metadata": {
  "kernelspec": {
   "display_name": "Python 3",
   "language": "python",
   "name": "python3"
  },
  "language_info": {
   "codemirror_mode": {
    "name": "ipython",
    "version": 3
   },
   "file_extension": ".py",
   "mimetype": "text/x-python",
   "name": "python",
   "nbconvert_exporter": "python",
   "pygments_lexer": "ipython3",
   "version": "3.4.3+"
  }
 },
 "nbformat": 4,
 "nbformat_minor": 0
}
