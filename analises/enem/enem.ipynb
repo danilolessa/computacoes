{
 "cells": [
  {
   "cell_type": "code",
   "execution_count": 1,
   "metadata": {
    "collapsed": false
   },
   "outputs": [],
   "source": [
    "import pandas as pd\n",
    "import os\n",
    "import struct\n",
    "import sys\n",
    "import numpy as np\n",
    "import scipy\n",
    "import matplotlib.pyplot as plt"
   ]
  },
  {
   "cell_type": "code",
   "execution_count": 2,
   "metadata": {
    "collapsed": false
   },
   "outputs": [],
   "source": [
    "csv_dic = pd.read_csv(\"dicionario.csv\")\n",
    "\n",
    "inds = ~(pd.isnull(csv_dic.nome) | pd.isnull(csv_dic.desc))\n",
    "csv_f = csv_dic[inds]\n",
    "\n",
    "i = 0\n",
    "col = []\n",
    "for i in range(0, len(csv_f)):\n",
    "    row = csv_f.iloc[i]\n",
    "    col.append(row.nome)"
   ]
  },
  {
   "cell_type": "code",
   "execution_count": 10,
   "metadata": {
    "collapsed": false
   },
   "outputs": [],
   "source": [
    "path = \"microdados.csv\"\n",
    "wpath = \"enem2014.bin\"\n",
    "\n",
    "est = col.index(\"UF_NASCIMENTO\")\n",
    "escola = col.index(\"TP_ESCOLA\")\n",
    "ensino = col.index(\"IN_TP_ENSINO\")"
   ]
  },
  {
   "cell_type": "code",
   "execution_count": 6,
   "metadata": {
    "collapsed": false
   },
   "outputs": [],
   "source": [
    "est_dict = {'0':0, 'RS':1, 'SC':2, 'PR':3, 'SP':4, 'RJ':5, 'MG':6, 'ES':7, 'MS':8, 'GO':9,\n",
    "            'DF':10, 'MT': 11, 'BA': 12, 'SE': 13, 'AL':14, 'PE': 15, 'PB': 16, 'RN': 17,\n",
    "           'CE': 18, 'PI': 19, 'MA': 20, 'RO': 21, 'AC': 22, 'AM': 23, 'RR': 24, 'PA': 25, 'AP': 26, 'TO':27}\n",
    "\n",
    "def func_f_nan(s):\n",
    "    if s == '':\n",
    "        return -1\n",
    "    else:\n",
    "        return int(float(s))\n",
    "    \n",
    "def func_s_nan(s):\n",
    "    if s == '':\n",
    "        return -1\n",
    "    else:\n",
    "        return ord(s) - ord('A')\n",
    "    \n",
    "def func_i_nan(s):\n",
    "    if s == '':\n",
    "        return -1\n",
    "    else:\n",
    "        return int(s)"
   ]
  },
  {
   "cell_type": "code",
   "execution_count": 11,
   "metadata": {
    "collapsed": false
   },
   "outputs": [
    {
     "name": "stdout",
     "output_type": "stream",
     "text": [
      "0\n",
      "1000000\n",
      "2000000\n",
      "3000000\n",
      "4000000\n",
      "5000000\n",
      "6000000\n",
      "7000000\n",
      "8000000\n"
     ]
    }
   ],
   "source": [
    "i = -1\n",
    "with open(wpath, 'wb') as fot:\n",
    "    with open(path, 'r', encoding=\"iso-8859-1\") as fid:\n",
    "        for lin in fid:\n",
    "            if i % 1000000 == 0:\n",
    "                print(i)\n",
    "            i += 1\n",
    "            \n",
    "            ans = lin.split(',')\n",
    "            \n",
    "            pres = ans[65]\n",
    "            if (pres is not '1'):\n",
    "                continue\n",
    "            \n",
    "            idade = ans[15]\n",
    "            sexo = ans[16]\n",
    "            etnia = ans[27]\n",
    "            estado = ans[est]\n",
    "            nota_nat = ans[70]\n",
    "            nota_hum = ans[71]            \n",
    "            nota_por = ans[72]\n",
    "            nota_mat = ans[73]\n",
    "            nota_red = ans[89]      \n",
    "\n",
    "                \n",
    "            renda = ans[92]\n",
    "            tipo_esc_fund = ans[escola]\n",
    "            tipo_esc_medi = ans[ensino]\n",
    "            \n",
    "            \n",
    "            sexo_p = -1\n",
    "            if(sexo == 'F'):\n",
    "                sexo_p = 1\n",
    "            elif(sexo == 'M'):\n",
    "                sexo_p = 0\n",
    "                \n",
    "            idade_p = func_i_nan(idade)\n",
    "            etnia_p = func_i_nan(etnia)\n",
    "            if estado == '':\n",
    "                estado = '0'\n",
    "            estado_p = est_dict[estado]\n",
    "            nota_nat_p = func_f_nan(nota_nat)\n",
    "            nota_hum_p = func_f_nan(nota_hum)\n",
    "            nota_por_p = func_f_nan(nota_por)\n",
    "            nota_mat_p = func_f_nan(nota_mat)\n",
    "            nota_red_p = func_f_nan(nota_red)\n",
    "            renda_p = func_s_nan(renda)\n",
    "            tipo_esc_fund_p = func_i_nan(tipo_esc_fund)\n",
    "            tipo_esc_medi_p = func_i_nan(tipo_esc_medi)\n",
    "                \n",
    "            fot.write(struct.pack('hhhhhhhhhhhh', idade_p, sexo_p, estado_p, etnia_p, nota_nat_p,\n",
    "                                 nota_hum_p, nota_por_p, nota_mat_p, nota_red_p,\n",
    "                                 renda_p, tipo_esc_fund_p, tipo_esc_medi_p))\n"
   ]
  },
  {
   "cell_type": "code",
   "execution_count": 12,
   "metadata": {
    "collapsed": false
   },
   "outputs": [
    {
     "data": {
      "text/plain": [
       "'PA'"
      ]
     },
     "execution_count": 12,
     "metadata": {},
     "output_type": "execute_result"
    }
   ],
   "source": [
    "estado"
   ]
  },
  {
   "cell_type": "code",
   "execution_count": 13,
   "metadata": {
    "collapsed": false
   },
   "outputs": [
    {
     "name": "stdout",
     "output_type": "stream",
     "text": [
      "5978687\n",
      "4978687\n",
      "3978687\n",
      "2978687\n",
      "1978687\n",
      "978687\n"
     ]
    }
   ],
   "source": [
    "datpath = \"enem2014.bin\"\n",
    "siz = int(os.path.getsize(datpath) / 24)\n",
    "\n",
    "dat = np.zeros((siz, 12))\n",
    "\n",
    "with open(datpath, 'rb') as fid:\n",
    "    for i in range(0, siz):\n",
    "        dat[i] = struct.unpack('hhhhhhhhhhhh', fid.read(24))\n",
    "        if i % 1000000 == 0:\n",
    "            print(siz - i)\n"
   ]
  },
  {
   "cell_type": "code",
   "execution_count": 14,
   "metadata": {
    "collapsed": false
   },
   "outputs": [],
   "source": [
    "raw = pd.DataFrame(dat, columns=['idade', 'sexo', 'estado', 'cor', 'nota_nat', 'nota_hum', 'nota_por', 'nota_mat',\n",
    "                                'nota_red', 'renda', 'escola', 'ensino'])\n"
   ]
  },
  {
   "cell_type": "code",
   "execution_count": null,
   "metadata": {
    "collapsed": true
   },
   "outputs": [],
   "source": [
    "df = raw[(raw.estado == 26) & (raw.escola == 1)]\n",
    "ens = np.unique(df.ensino)\n",
    "c = len(rr)\n",
    "x = [0, 0.5, 1.25, 1.75, 2.25, 2.75, 3.5, 4.5, 5.5, 6.5, 7.5, 8.5, 9.5, 11, 13.5, 17.5, 23]\n",
    "geral = np.zeros(c)\n",
    "brancos = np.zeros(c)\n",
    "pretos = np.zeros(c)\n",
    "pardos = np.zeros(c)\n",
    "amarelos = np.zeros(c)\n",
    "indios = np.zeros(c)\n",
    "dat_a = df.nota_mat + df.nota_hum + df.nota_nat + df.nota_por + df.nota_red\n",
    "\n",
    "for i in range(0, c):\n",
    "    geral[i] = (np.median(dat_a[df.renda == i]))\n",
    "    brancos[i] = (np.median(dat_a[(df.renda == i) & (df.cor == 1)]))\n",
    "    pretos[i] = (np.median(dat_a[(df.renda == i) & (df.cor == 2)]))\n",
    "    pardos[i] = (np.median(dat_a[(df.renda == i) & (df.cor == 3)]))\n",
    "    amarelos[i] = (np.median(dat_a[(df.renda == i) & (df.cor == 4)]))\n",
    "    indios[i] = (np.median(dat_a[(df.renda == i) & (df.cor == 5)]))"
   ]
  },
  {
   "cell_type": "code",
   "execution_count": 247,
   "metadata": {
    "collapsed": false
   },
   "outputs": [
    {
     "name": "stderr",
     "output_type": "stream",
     "text": [
      "/usr/lib/python3/dist-packages/numpy/core/_methods.py:55: RuntimeWarning: Mean of empty slice.\n",
      "  warnings.warn(\"Mean of empty slice.\", RuntimeWarning)\n"
     ]
    }
   ],
   "source": [
    "df = raw[raw.estado == 26]\n",
    "rr = np.unique(df.renda)\n",
    "c = len(rr)\n",
    "x = [0, 0.5, 1.25, 1.75, 2.25, 2.75, 3.5, 4.5, 5.5, 6.5, 7.5, 8.5, 9.5, 11, 13.5, 17.5, 23]\n",
    "geral = np.zeros(c)\n",
    "brancos = np.zeros(c)\n",
    "pretos = np.zeros(c)\n",
    "pardos = np.zeros(c)\n",
    "amarelos = np.zeros(c)\n",
    "indios = np.zeros(c)\n",
    "dat_a = df.nota_mat + df.nota_hum + df.nota_nat + df.nota_por + df.nota_red\n",
    "\n",
    "for i in range(0, c):\n",
    "    geral[i] = (np.median(dat_a[df.renda == i]))\n",
    "    brancos[i] = (np.median(dat_a[(df.renda == i) & (df.cor == 1)]))\n",
    "    pretos[i] = (np.median(dat_a[(df.renda == i) & (df.cor == 2)]))\n",
    "    pardos[i] = (np.median(dat_a[(df.renda == i) & (df.cor == 3)]))\n",
    "    amarelos[i] = (np.median(dat_a[(df.renda == i) & (df.cor == 4)]))\n",
    "    indios[i] = (np.median(dat_a[(df.renda == i) & (df.cor == 5)]))"
   ]
  },
  {
   "cell_type": "code",
   "execution_count": 248,
   "metadata": {
    "collapsed": false
   },
   "outputs": [],
   "source": [
    "plt.plot(x, geral, 'k', label='Geral', linewidth=2)\n",
    "plt.plot(x, brancos, label='Brancos', linewidth=2)\n",
    "plt.plot(x, pardos, label='Pardos', linewidth=2)\n",
    "plt.plot(x, pretos, label='Pretos', linewidth=2)\n",
    "plt.plot(x, amarelos, 'y', label='Amarelos', linewidth=2)\n",
    "plt.plot(x, indios, label='Indigenas', linewidth=2)\n",
    "plt.legend(loc=2)\n",
    "plt.xlim(0, 23)\n",
    "plt.ylim(2000, 3400)\n",
    "\n",
    "plt.grid(True)\n",
    "plt.title(\"Pontuação total no ENEM 2014 x Renda mensal familiar (Pernambuco)\")\n",
    "plt.ylabel(\"Pontuação total no ENEM (mediana)\")\n",
    "plt.xlabel(\"Renda mensal da familia em salários minimos\")\n",
    "plt.show()"
   ]
  },
  {
   "cell_type": "code",
   "execution_count": 183,
   "metadata": {
    "collapsed": false
   },
   "outputs": [],
   "source": [
    "plt.hist(list(df.cor))\n",
    "plt.show()"
   ]
  },
  {
   "cell_type": "code",
   "execution_count": 215,
   "metadata": {
    "collapsed": false
   },
   "outputs": [],
   "source": [
    "plt.hist(list(df.renda[df.cor == 2]), bins=16)\n",
    "plt.show()"
   ]
  },
  {
   "cell_type": "code",
   "execution_count": 147,
   "metadata": {
    "collapsed": false
   },
   "outputs": [],
   "source": [
    "y = list(dat_a[df.cor == 4])\n",
    "plt.hist(y, bins=50)\n",
    "plt.show()"
   ]
  },
  {
   "cell_type": "code",
   "execution_count": null,
   "metadata": {
    "collapsed": false
   },
   "outputs": [],
   "source": [
    "np.std(dat_a)"
   ]
  },
  {
   "cell_type": "code",
   "execution_count": null,
   "metadata": {
    "collapsed": false
   },
   "outputs": [],
   "source": [
    "3000/5"
   ]
  },
  {
   "cell_type": "code",
   "execution_count": null,
   "metadata": {
    "collapsed": false
   },
   "outputs": [],
   "source": [
    "len(dat_a[df.cor == 1])"
   ]
  },
  {
   "cell_type": "code",
   "execution_count": null,
   "metadata": {
    "collapsed": false
   },
   "outputs": [],
   "source": [
    "5/4"
   ]
  },
  {
   "cell_type": "code",
   "execution_count": null,
   "metadata": {
    "collapsed": true
   },
   "outputs": [],
   "source": []
  }
 ],
 "metadata": {
  "kernelspec": {
   "display_name": "Python 3",
   "language": "python",
   "name": "python3"
  },
  "language_info": {
   "codemirror_mode": {
    "name": "ipython",
    "version": 3
   },
   "file_extension": ".py",
   "mimetype": "text/x-python",
   "name": "python",
   "nbconvert_exporter": "python",
   "pygments_lexer": "ipython3",
   "version": "3.4.3+"
  }
 },
 "nbformat": 4,
 "nbformat_minor": 0
}
