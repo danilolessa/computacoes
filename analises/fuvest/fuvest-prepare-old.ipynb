{
 "cells": [
  {
   "cell_type": "code",
   "execution_count": 3,
   "metadata": {
    "collapsed": true
   },
   "outputs": [],
   "source": [
    "#Preparar os dados minerados para analisar de modo consistente\n",
    "#Danilo Lessa Bernardineli"
   ]
  },
  {
   "cell_type": "code",
   "execution_count": 4,
   "metadata": {
    "collapsed": true
   },
   "outputs": [],
   "source": [
    "import pandas as pd\n",
    "import os\n",
    "import numpy as np"
   ]
  },
  {
   "cell_type": "code",
   "execution_count": 5,
   "metadata": {
    "collapsed": true
   },
   "outputs": [],
   "source": [
    "base_path = \"dados/\""
   ]
  },
  {
   "cell_type": "code",
   "execution_count": 6,
   "metadata": {
    "collapsed": false
   },
   "outputs": [],
   "source": [
    "#Localização dos arquivos\n",
    "dir_files = os.listdir(base_path)\n",
    "quest_files = [base_path + file for file in dir_files if len(file[:-5]) == 4]\n",
    "quest_files = sorted(quest_files)\n",
    "dat_files = [base_path + file for file in dir_files if len(file[:-5]) == 8]\n",
    "dat_files = sorted(dat_files)"
   ]
  },
  {
   "cell_type": "code",
   "execution_count": 7,
   "metadata": {
    "collapsed": true
   },
   "outputs": [],
   "source": [
    "###Escrever as perguntas distintas em um arquivo para poder mapea-las\n",
    "quest_list = []\n",
    "years_list = []\n",
    "\n",
    "for q in quest_files:\n",
    "    qr = q[:-5]\n",
    "    qr = qr[len(base_path):]\n",
    "    dat = pd.read_json(q)\n",
    "    quests = np.unique(dat[3])\n",
    "    for qq in quests:\n",
    "        if qq not in quest_list:\n",
    "            quest_list.append(qq)\n",
    "            years_list.append(qr)\n",
    "        else:\n",
    "            ind = quest_list.index(qq)\n",
    "            years_list[ind] += \", %s\" % qr\n",
    "oo = pd.DataFrame({\"pergunta\": quest_list, \"z_anos\": years_list})\n",
    "oo.to_excel(\"perguntas.xls\")"
   ]
  },
  {
   "cell_type": "code",
   "execution_count": 8,
   "metadata": {
    "collapsed": false
   },
   "outputs": [],
   "source": [
    "#Utilizar das perguntas mapeadas para gerar um arquivo para mapear as respostas\n",
    "perg_mapeadas = pd.read_excel(\"perguntas-mapeadas.xls\")\n",
    "n = np.max(perg_mapeadas.tipo)\n",
    "respostas_final = [None] * (n + 1)\n",
    "\n",
    "def zzz(respostas_final, tipo, respostas):\n",
    "    i = 0\n",
    "    for r in respostas_final[tipo]:\n",
    "        if r[0] == resposta:\n",
    "            return i\n",
    "        i += 1\n",
    "    return False\n",
    "\n",
    "for q in quest_files:\n",
    "    qr = q[:-5]\n",
    "    qr = qr[len(base_path):]\n",
    "    dat = pd.read_json(q)\n",
    "    perguntas = dat[3]\n",
    "    for pergunta in perguntas:\n",
    "        tipo = perg_mapeadas[perg_mapeadas.pergunta == pergunta].tipo\n",
    "        tipo = int(tipo)\n",
    "        respostas = dat[perguntas == pergunta].T[4:]\n",
    "        for resposta in respostas.values:\n",
    "            resposta = resposta[0]\n",
    "            if resposta == None:\n",
    "                continue\n",
    "            if respostas_final[tipo] == None:\n",
    "                respostas_final[tipo] = [[resposta, [qr]]]\n",
    "            else:\n",
    "                x = zzz(respostas_final, tipo, resposta)\n",
    "                if x:\n",
    "                    ind = x\n",
    "                    respostas_final[tipo][ind][1].append(qr)\n",
    "                else:\n",
    "                    respostas_final[tipo].append([resposta, [qr]])\n",
    "                    \n",
    "i = 1\n",
    "for questao in respostas_final[1:]:\n",
    "    resps = [q[0] for q in questao]\n",
    "    anos = [q[1] for q in questao]\n",
    "    questao_equiv = np.arange(0, len(resps))\n",
    "    questao_dict = {\"questao\": resps, \"anos\": anos,\n",
    "                    \"questao_equivalente\": questao_equiv,\n",
    "                    \"questao_equivalente_num\": \"\",\n",
    "                   \"questao_equivalente_desc\": \"\",\n",
    "                   \"texto_pergunta\": \"\"}\n",
    "    file = \"tipo/\" + str(i) + \".xls\"\n",
    "    i += 1\n",
    "    dat = pd.DataFrame(questao_dict)\n",
    "    dat.to_excel(file)            "
   ]
  },
  {
   "cell_type": "code",
   "execution_count": 9,
   "metadata": {
    "collapsed": false,
    "scrolled": true
   },
   "outputs": [],
   "source": [
    "#Utilizar das respostas mapeadas para criar uma estrutura comum a todos os dados da FUVEST\n",
    "perg_mapeadas = pd.read_excel(\"perguntas-mapeadas.xls\")\n",
    "uperg = [None] * np.max(tipo)\n",
    "for perg in perg_mapeads:\n",
    "    "
   ]
  },
  {
   "cell_type": "code",
   "execution_count": null,
   "metadata": {
    "collapsed": true
   },
   "outputs": [],
   "source": [
    "perg_mapeadas"
   ]
  }
 ],
 "metadata": {
  "kernelspec": {
   "display_name": "Python 3",
   "language": "python",
   "name": "python3"
  },
  "language_info": {
   "codemirror_mode": {
    "name": "ipython",
    "version": 3
   },
   "file_extension": ".py",
   "mimetype": "text/x-python",
   "name": "python",
   "nbconvert_exporter": "python",
   "pygments_lexer": "ipython3",
   "version": "3.5.2"
  },
  "widgets": {
   "state": {},
   "version": "1.1.1"
  }
 },
 "nbformat": 4,
 "nbformat_minor": 0
}
