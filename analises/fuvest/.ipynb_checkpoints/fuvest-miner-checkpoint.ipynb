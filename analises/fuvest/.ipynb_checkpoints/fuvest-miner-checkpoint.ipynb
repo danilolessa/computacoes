{
 "cells": [
  {
   "cell_type": "code",
   "execution_count": 162,
   "metadata": {
    "collapsed": false
   },
   "outputs": [],
   "source": [
    "#Miner do questionário sócio-economico da Fuvest\n",
    "#Danilo Lessa Bernardineli\n",
    "\n",
    "#Esse notebook pega de forma automática os arquivos .js\n",
    "#contendo os dados sócio-economicos dos questionários da Fuvest para todas\n",
    "#as opções e converte em .json, a qual pode ser liga com o Pandas\n",
    "#Análise dos dados está no outro notebook"
   ]
  },
  {
   "cell_type": "code",
   "execution_count": 163,
   "metadata": {
    "collapsed": true
   },
   "outputs": [],
   "source": [
    "###Dependências\n",
    "import requests as req"
   ]
  },
  {
   "cell_type": "code",
   "execution_count": 164,
   "metadata": {
    "collapsed": true
   },
   "outputs": [],
   "source": [
    "#Parâmetros iniciais\n",
    "ano_inicial = 1970\n",
    "ano_final = 2016\n",
    "encoding = \"ISO-8859-1\"\n",
    "\n",
    "#Pasta para onde escrever os arquivos .json\n",
    "base_path = \"dados/\""
   ]
  },
  {
   "cell_type": "code",
   "execution_count": 165,
   "metadata": {
    "collapsed": false
   },
   "outputs": [],
   "source": [
    "#Função para filtrar o arquivo .js e converter em .json --- não estranhe, é uma gambiarra\n",
    "def write_output(out, path, is_ano=False):\n",
    "    o = out\n",
    "    if is_ano is False:\n",
    "        o = o[out.index(';'):]\n",
    "    o = o[(out.index('[') - 1):]\n",
    "    o = o.replace(\"\\\\a\", \" \")\n",
    "    with open(path, \"w\") as fid:\n",
    "        fid.write(o)"
   ]
  },
  {
   "cell_type": "code",
   "execution_count": 166,
   "metadata": {
    "collapsed": false,
    "scrolled": true
   },
   "outputs": [
    {
     "name": "stdout",
     "output_type": "stream",
     "text": [
      "2015 - S\n",
      "2016 - S\n"
     ]
    }
   ],
   "source": [
    "#Mineração\n",
    "for ano in range(ano_inicial, ano_final+1):    \n",
    "    #URL do questionário aplicado no ano\n",
    "    url_quest = \"http://www.fuvest.br/vest%s/js/qase_quest_%s.js\" % (str(ano), str(ano))\n",
    "    \n",
    "    #Obtenção do questionário\n",
    "    r = req.get(url_quest)\n",
    "    r.encoding = encoding\n",
    "    \n",
    "    #Escrever o arquivo do questionário\n",
    "    path = base_path + str(ano) + \".json\"\n",
    "    flag = \"S\"\n",
    "    try:\n",
    "        write_output(r.text, path, is_ano=True)\n",
    "    except:\n",
    "        flag = \"N\"\n",
    "    print(\"%s - %s\" % (ano, flag))\n",
    "    \n",
    "    #Obtenção das respostas\n",
    "    for i in range(1, 4):\n",
    "        for j in range(1, 5):\n",
    "            path = base_path + str(ano) + \"_%i_%i.json\" % (j, i)\n",
    "            url = \"http://www.fuvest.br/vest%s/js/qase_grupos_%s_%s_%s.js\" % (str(ano), str(j), str(i), str(ano))\n",
    "            r = req.get(url)\n",
    "            r.encoding = encoding\n",
    "            try:\n",
    "                write_output(r.text, path, is_ano=False)\n",
    "            except:\n",
    "                continue       "
   ]
  }
 ],
 "metadata": {
  "kernelspec": {
   "display_name": "Python 3",
   "language": "python",
   "name": "python3"
  },
  "language_info": {
   "codemirror_mode": {
    "name": "ipython",
    "version": 3
   },
   "file_extension": ".py",
   "mimetype": "text/x-python",
   "name": "python",
   "nbconvert_exporter": "python",
   "pygments_lexer": "ipython3",
   "version": "3.5.2"
  },
  "widgets": {
   "state": {},
   "version": "1.1.1"
  }
 },
 "nbformat": 4,
 "nbformat_minor": 0
}
