{
 "cells": [
  {
   "cell_type": "code",
   "execution_count": 274,
   "metadata": {
    "collapsed": false
   },
   "outputs": [],
   "source": [
    "import numpy as np\n",
    "import matplotlib.pyplot as plt\n",
    "import requests as req\n",
    "import json\n",
    "import os\n",
    "import pandas as pd\n",
    "import re"
   ]
  },
  {
   "cell_type": "code",
   "execution_count": 275,
   "metadata": {
    "collapsed": false
   },
   "outputs": [],
   "source": [
    "#mining\n",
    "version = '2.7'\n",
    "access_token = \"EAACEdEose0cBAPbQm9ZCMsA9X2aFEKWcH7368TI8XCBlcCVwpZAtkznBkT3sLhgFihDptvZBuGvpRBtK9KmZCR5AarFGWWQzrQTS31nwUkPOoNboiGwtZAZAL3ITVro6ZCledlfd9f68zZAyk2OGZCzDNAUK30aKJrh828bahdEA9rAZDZD\""
   ]
  },
  {
   "cell_type": "code",
   "execution_count": 385,
   "metadata": {
    "collapsed": true
   },
   "outputs": [],
   "source": [
    "target = \"cefismausp\""
   ]
  },
  {
   "cell_type": "code",
   "execution_count": 386,
   "metadata": {
    "collapsed": false
   },
   "outputs": [],
   "source": [
    "url = \"https://graph.facebook.com/v%s/\" % version\n",
    "url += \"%s/feed/\" % target\n",
    "i = 0\n",
    "p = {'access_token': access_token}\n",
    "r = req.get(url, params=p)\n",
    "data = r.json()\n",
    "filepath = \"%s-%s\" % (target, i)\n",
    "with open(filepath, 'w') as fil:\n",
    "    json.dump(data, fil)\n",
    "i += 1\n",
    "paging_token = data['paging']['next']"
   ]
  },
  {
   "cell_type": "code",
   "execution_count": 387,
   "metadata": {
    "collapsed": false
   },
   "outputs": [
    {
     "ename": "KeyError",
     "evalue": "'paging'",
     "output_type": "error",
     "traceback": [
      "\u001b[1;31m---------------------------------------------------------------------------\u001b[0m",
      "\u001b[1;31mKeyError\u001b[0m                                  Traceback (most recent call last)",
      "\u001b[1;32m<ipython-input-387-e4404b3e8050>\u001b[0m in \u001b[0;36m<module>\u001b[1;34m()\u001b[0m\n\u001b[0;32m      6\u001b[0m         \u001b[0mjson\u001b[0m\u001b[1;33m.\u001b[0m\u001b[0mdump\u001b[0m\u001b[1;33m(\u001b[0m\u001b[0mdata\u001b[0m\u001b[1;33m,\u001b[0m \u001b[0mfil\u001b[0m\u001b[1;33m)\u001b[0m\u001b[1;33m\u001b[0m\u001b[0m\n\u001b[0;32m      7\u001b[0m     \u001b[0mi\u001b[0m \u001b[1;33m+=\u001b[0m \u001b[1;36m1\u001b[0m\u001b[1;33m\u001b[0m\u001b[0m\n\u001b[1;32m----> 8\u001b[1;33m     \u001b[0mpaging_token\u001b[0m \u001b[1;33m=\u001b[0m \u001b[0mdata\u001b[0m\u001b[1;33m[\u001b[0m\u001b[1;34m'paging'\u001b[0m\u001b[1;33m]\u001b[0m\u001b[1;33m[\u001b[0m\u001b[1;34m'next'\u001b[0m\u001b[1;33m]\u001b[0m\u001b[1;33m\u001b[0m\u001b[0m\n\u001b[0m",
      "\u001b[1;31mKeyError\u001b[0m: 'paging'"
     ]
    }
   ],
   "source": [
    "while 1 == 1:\n",
    "    r = req.get(data['paging']['next'])\n",
    "    data = r.json()\n",
    "    filepath = \"%s-%s\" % (target, i)\n",
    "    with open(filepath, 'w') as fil:\n",
    "        json.dump(data, fil)\n",
    "    i += 1\n",
    "    paging_token = data['paging']['next']"
   ]
  },
  {
   "cell_type": "code",
   "execution_count": 388,
   "metadata": {
    "collapsed": false
   },
   "outputs": [],
   "source": [
    "def validate(var, keys, dat):\n",
    "    if var in keys:\n",
    "        return dat[var]\n",
    "    else:\n",
    "        return None\n",
    "\n",
    "def validate_2(keys, dat):\n",
    "    id = validate('id', keys, dat)\n",
    "    created_time = validate('created_time', keys, dat)\n",
    "    message = validate('message', keys, dat)\n",
    "    story = validate('story', keys, dat)\n",
    "    return (id, created_time, message, story)"
   ]
  },
  {
   "cell_type": "code",
   "execution_count": 389,
   "metadata": {
    "collapsed": false
   },
   "outputs": [],
   "source": [
    "#processing\n",
    "id = []\n",
    "created_time = []\n",
    "message = []\n",
    "story = []\n",
    "todos = []\n",
    "todos.append((\"id\", \"created_time\", \"message\", \"story\"))\n",
    "for filename in os.listdir(\"cefisma\"):\n",
    "    if filename[-4] != \"ipynb\":\n",
    "        with open(\"cefisma/%s\" % filename, \"r\") as fil:\n",
    "            j = json.loads(fil.read())\n",
    "            for post in j['data']:\n",
    "                keys = post.keys()\n",
    "                todos.append(validate_2(keys, post))              \n",
    "                "
   ]
  },
  {
   "cell_type": "code",
   "execution_count": 390,
   "metadata": {
    "collapsed": false
   },
   "outputs": [],
   "source": [
    "a = pd.DataFrame(todos)\n",
    "a.to_csv(\"%s-output.csv\" % target, index_label=False)\n",
    "a = pd.read_csv(\"%s-output.csv\" % target, header=1)"
   ]
  },
  {
   "cell_type": "code",
   "execution_count": 393,
   "metadata": {
    "collapsed": false
   },
   "outputs": [],
   "source": [
    "words = []\n",
    "word_c = []\n",
    "\n",
    "for message in a.message:\n",
    "    message = str(message).lower()\n",
    "    splited = re.findall(\"\\w+\", message)\n",
    "    for word in splited:\n",
    "        if word in words:\n",
    "            word_c[words.index(word)] += 1\n",
    "        else:\n",
    "            words.append(word)\n",
    "            word_c.append(1)"
   ]
  },
  {
   "cell_type": "code",
   "execution_count": 394,
   "metadata": {
    "collapsed": false,
    "scrolled": true
   },
   "outputs": [
    {
     "data": {
      "text/plain": [
       "7.0601492755744184"
      ]
     },
     "execution_count": 394,
     "metadata": {},
     "output_type": "execute_result"
    }
   ],
   "source": [
    "res = [words, word_c]\n",
    "b = pd.DataFrame(list(zip(*res)), columns=[\"word\", \"word_count\"])\n",
    "\n",
    "\n",
    "\n",
    "b = b[b.word.str.len() > 3]\n",
    "b = b.sort_values(['word_count'], ascending=False)\n",
    "b.to_csv(\"hehe.csv\")\n",
    "nword_l = np.array(b.word.str.len())\n",
    "nword_c = np.array(b.word_count)\n",
    "avg = np.sum(nword_l * nword_c) / np.sum(nword_c)\n",
    "avg"
   ]
  },
  {
   "cell_type": "code",
   "execution_count": null,
   "metadata": {
    "collapsed": true
   },
   "outputs": [],
   "source": []
  }
 ],
 "metadata": {
  "kernelspec": {
   "display_name": "Python 3",
   "language": "python",
   "name": "python3"
  },
  "language_info": {
   "codemirror_mode": {
    "name": "ipython",
    "version": 3
   },
   "file_extension": ".py",
   "mimetype": "text/x-python",
   "name": "python",
   "nbconvert_exporter": "python",
   "pygments_lexer": "ipython3",
   "version": "3.5.2"
  }
 },
 "nbformat": 4,
 "nbformat_minor": 0
}
