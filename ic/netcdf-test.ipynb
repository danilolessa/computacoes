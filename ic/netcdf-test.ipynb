{
 "cells": [
  {
   "cell_type": "code",
   "execution_count": 1,
   "metadata": {
    "collapsed": false
   },
   "outputs": [],
   "source": [
    "%matplotlib notebook\n",
    "import netCDF4 as nc\n",
    "import numpy as np\n",
    "import xie_liu as xl\n",
    "import matplotlib.pyplot as plt\n",
    "import pandas as pd\n",
    "import pickle\n",
    "path = \"dados/maoradflux1long/maoradflux1longM1.c2.20140223.040000.nc\""
   ]
  },
  {
   "cell_type": "code",
   "execution_count": 2,
   "metadata": {
    "collapsed": true
   },
   "outputs": [],
   "source": [
    "root = nc.Dataset(path, \"r\")"
   ]
  },
  {
   "cell_type": "code",
   "execution_count": 3,
   "metadata": {
    "collapsed": false
   },
   "outputs": [],
   "source": [
    "    dataset = root\n",
    "    cf = dataset[\"cloudfraction_longwave\"][:]\n",
    "    base_time = dataset[\"base_time\"][0]\n",
    "    time_offset = dataset[\"time_offset\"][:]\n",
    "    time = (time_offset) / (60 * 60)\n",
    "    Fdn_clr = dataset[\"clearsky_downwelling_shortwave\"][:]\n",
    "    Fdn_all = dataset[\"downwelling_shortwave\"][:]\n",
    "    Fup_all = dataset[\"upwelling_shortwave\"][:]\n",
    "    Fdn_clr_d = dataset[\"clearsky_diffuse_downwelling_shortwave\"][:]\n",
    "    Fdn_all_d = dataset[\"direct_downwelling_shortwave\"][:]\n",
    "    T = dataset[\"cloud_transmissivity_shortwave\"][:]"
   ]
  },
  {
   "cell_type": "code",
   "execution_count": 65,
   "metadata": {
    "collapsed": false
   },
   "outputs": [
    {
     "data": {
      "text/plain": [
       "<class 'netCDF4._netCDF4.Dataset'>\n",
       "root group (NETCDF3_CLASSIC data model, file format UNDEFINED):\n",
       "    Conventions: ARM-1.1\n",
       "    command_line: radflux1long_vap -s mao -f M1 -b 20131220 -e 20151201 -n radflux1longc2 require_goodday 0 -D 2\n",
       "    process_version: vap-radflux1long-2.3-0.el6\n",
       "    dod_version: radflux1long-c2-1.4\n",
       "    site_id: mao\n",
       "    facility_id: M1\n",
       "    platform_id: radflux1long\n",
       "    location_description: Green Ocean Amazon (GOAMAZON), Manacapuru, Amazonia, Brazil\n",
       "    data_level: c2\n",
       "    rh_factor_flag: 1\n",
       "    rh_factor_flag_comment: 0 = no_coef_applied 1 = calculate_coef 2 = use_std_coef 3 = use_coef_from_prev_run\n",
       "    fitmode: 0\n",
       "    fitmode_comment: 01 = daily_fit 00 =  1_fit\n",
       "    input_datastreams: maoqcrad1longM1.c2 : 0.5 : 20131220.000000-20151201.000000\n",
       "    datastream: maoradflux1longM1.c2\n",
       "    doi: 10.5439/1157585\n",
       "    history: created by user gaustad on machine amber at 2016-03-18 19:56:26, using vap-radflux1long-2.3-0.el6\n",
       "    dimensions(sizes): time(1440), bound(2)\n",
       "    variables(dimensions): int32 \u001b[4mbase_time\u001b[0m(), float64 \u001b[4mtime_offset\u001b[0m(time), float64 \u001b[4mtime\u001b[0m(time), float64 \u001b[4mtime_bounds\u001b[0m(time,bound), float32 \u001b[4mdownwelling_shortwave\u001b[0m(time), int32 \u001b[4msource_downwelling_shortwave\u001b[0m(time), int32 \u001b[4mqc_downwelling_shortwave\u001b[0m(time), float32 \u001b[4mclearsky_downwelling_shortwave\u001b[0m(time), float32 \u001b[4mdownwelling_longwave\u001b[0m(time), int32 \u001b[4mqc_downwelling_longwave\u001b[0m(time), float32 \u001b[4mclearsky_downwelling_longwave\u001b[0m(time), float32 \u001b[4mupwelling_shortwave\u001b[0m(time), int32 \u001b[4mqc_upwelling_shortwave\u001b[0m(time), float32 \u001b[4mclearsky_upwelling_shortwave\u001b[0m(time), float32 \u001b[4mupwelling_longwave\u001b[0m(time), int32 \u001b[4mqc_upwelling_longwave\u001b[0m(time), float32 \u001b[4mclearsky_upwelling_longwave\u001b[0m(time), float32 \u001b[4mdiffuse_downwelling_shortwave\u001b[0m(time), int32 \u001b[4msource_diffuse_downwelling_shortwave\u001b[0m(time), int32 \u001b[4mqc_diffuse_downwelling_shortwave\u001b[0m(time), float32 \u001b[4mclearsky_diffuse_downwelling_shortwave\u001b[0m(time), float32 \u001b[4mdirect_downwelling_shortwave\u001b[0m(time), int32 \u001b[4msource_direct_downwelling_shortwave\u001b[0m(time), int32 \u001b[4mqc_direct_downwelling_shortwave\u001b[0m(time), float32 \u001b[4mclearsky_direct_downwelling_shortwave\u001b[0m(time), int32 \u001b[4mclearsky_status\u001b[0m(time), float32 \u001b[4mcloudfraction_longwave\u001b[0m(time), float32 \u001b[4mcloudfraction_shortwave\u001b[0m(time), int32 \u001b[4mcloudfraction_shortwave_status\u001b[0m(time), float32 \u001b[4mvisible_cloud_optical_depth\u001b[0m(time), float32 \u001b[4mbrightness_temperature\u001b[0m(time), float32 \u001b[4mcloud_radiating_temperature\u001b[0m(time), float32 \u001b[4mclearsky_emissivity_longwave\u001b[0m(time), float32 \u001b[4mcosine_zenith\u001b[0m(time), float32 \u001b[4mcloud_transmissivity_shortwave\u001b[0m(time), int32 \u001b[4mtau_asymmetry_parameter_status\u001b[0m(time), int32 \u001b[4mtau_temperature_limit_status\u001b[0m(time), float32 \u001b[4mice_cloud_temperature_limit\u001b[0m(time), float32 \u001b[4mrh_adjustment_to_clearsky_emissivity_longwave\u001b[0m(time), float32 \u001b[4mwind_speed\u001b[0m(time), int32 \u001b[4mqc_wind_speed\u001b[0m(time), float32 \u001b[4mwind_direction\u001b[0m(time), int32 \u001b[4mqc_wind_direction\u001b[0m(time), float32 \u001b[4mair_temperature\u001b[0m(time), int32 \u001b[4mqc_air_temperature\u001b[0m(time), float32 \u001b[4mrelative_humidity\u001b[0m(time), int32 \u001b[4mqc_relative_humidity\u001b[0m(time), float32 \u001b[4mvapor_pressure\u001b[0m(time), float32 \u001b[4mpressure\u001b[0m(time), int32 \u001b[4mqc_pressure\u001b[0m(time), float32 \u001b[4mprecipitation\u001b[0m(time), int32 \u001b[4mqc_precipitation\u001b[0m(time), float32 \u001b[4mlat\u001b[0m(), float32 \u001b[4mlon\u001b[0m(), float32 \u001b[4malt\u001b[0m()\n",
       "    groups: "
      ]
     },
     "execution_count": 65,
     "metadata": {},
     "output_type": "execute_result"
    }
   ],
   "source": [
    "root"
   ]
  },
  {
   "cell_type": "code",
   "execution_count": 48,
   "metadata": {
    "collapsed": false
   },
   "outputs": [
    {
     "name": "stderr",
     "output_type": "stream",
     "text": [
      "/home/danilo/computacoes/ic/xie_liu.py:40: MaskedArrayFutureWarning: setting an item on a masked array which has a shared mask will not copy the mask and also change the original mask array in the future.\n",
      "Check the NumPy 1.11 release notes for more information.\n",
      "  B1[B1.mask] = np.nan\n",
      "/home/danilo/computacoes/ic/xie_liu.py:41: MaskedArrayFutureWarning: setting an item on a masked array which has a shared mask will not copy the mask and also change the original mask array in the future.\n",
      "Check the NumPy 1.11 release notes for more information.\n",
      "  B2[B2.mask] = np.nan\n"
     ]
    }
   ],
   "source": [
    "(B1, B2) = xl.get_B(Fdn_clr, Fdn_all, Fup_all, Fdn_clr_d, Fdn_all_d, T)"
   ]
  },
  {
   "cell_type": "code",
   "execution_count": 49,
   "metadata": {
    "collapsed": false,
    "scrolled": true
   },
   "outputs": [
    {
     "name": "stderr",
     "output_type": "stream",
     "text": [
      "/home/danilo/computacoes/ic/xie_liu.py:40: MaskedArrayFutureWarning: setting an item on a masked array which has a shared mask will not copy the mask and also change the original mask array in the future.\n",
      "Check the NumPy 1.11 release notes for more information.\n",
      "  B1[B1.mask] = np.nan\n",
      "/home/danilo/computacoes/ic/xie_liu.py:41: MaskedArrayFutureWarning: setting an item on a masked array which has a shared mask will not copy the mask and also change the original mask array in the future.\n",
      "Check the NumPy 1.11 release notes for more information.\n",
      "  B2[B2.mask] = np.nan\n"
     ]
    }
   ],
   "source": [
    "result = {\"CloudAlbedo\":[], \"CloudAlbedoCorrected\": [], \"CloudFraction\": [], \"CloudFractionCorrected\": [], \"Time\": []}\n",
    "res = xl.do_work(path)\n",
    "result[\"CloudAlbedo\"].extend(res[0])\n",
    "result[\"CloudAlbedoCorrected\"].extend(res[1])\n",
    "result[\"CloudFraction\"].extend(res[2])\n",
    "result[\"CloudFractionCorrected\"].extend(res[3])\n",
    "result[\"Time\"].extend(res[4])\n",
    "df = pd.DataFrame(result)"
   ]
  },
  {
   "cell_type": "code",
   "execution_count": 57,
   "metadata": {
    "collapsed": true
   },
   "outputs": [],
   "source": [
    "alfa = res[0]\n",
    "alfa_cor = res[1]\n",
    "inds = (~np.isnan(B1)) & (~np.isnan(alfa))\n",
    "indsc = (~np.isnan(B1)) & (~np.isnan(alfa_cor))"
   ]
  },
  {
   "cell_type": "code",
   "execution_count": 58,
   "metadata": {
    "collapsed": false
   },
   "outputs": [],
   "source": [
    "B1t = B1[inds]\n",
    "alfat = alfa[inds]\n",
    "alfact = alfa_cor[inds]\n",
    "b = B1t / alfat\n",
    "c = B1t / alfact"
   ]
  },
  {
   "cell_type": "code",
   "execution_count": 61,
   "metadata": {
    "collapsed": false
   },
   "outputs": [
    {
     "data": {
      "text/plain": [
       "178"
      ]
     },
     "execution_count": 61,
     "metadata": {},
     "output_type": "execute_result"
    }
   ],
   "source": [
    "np.argmax(b)"
   ]
  },
  {
   "cell_type": "code",
   "execution_count": 62,
   "metadata": {
    "collapsed": false
   },
   "outputs": [
    {
     "data": {
      "text/plain": [
       "465087856640.00464"
      ]
     },
     "execution_count": 62,
     "metadata": {},
     "output_type": "execute_result"
    }
   ],
   "source": [
    "b[178]"
   ]
  },
  {
   "cell_type": "code",
   "execution_count": 63,
   "metadata": {
    "collapsed": false
   },
   "outputs": [
    {
     "data": {
      "text/plain": [
       "0.84598988"
      ]
     },
     "execution_count": 63,
     "metadata": {},
     "output_type": "execute_result"
    }
   ],
   "source": [
    "B1t[178]"
   ]
  },
  {
   "cell_type": "code",
   "execution_count": 64,
   "metadata": {
    "collapsed": false
   },
   "outputs": [
    {
     "data": {
      "text/plain": [
       "1.8189894035458383e-12"
      ]
     },
     "execution_count": 64,
     "metadata": {},
     "output_type": "execute_result"
    }
   ],
   "source": [
    "alfat[178]"
   ]
  },
  {
   "cell_type": "code",
   "execution_count": null,
   "metadata": {
    "collapsed": true
   },
   "outputs": [],
   "source": []
  }
 ],
 "metadata": {
  "kernelspec": {
   "display_name": "Python 3",
   "language": "python",
   "name": "python3"
  },
  "language_info": {
   "codemirror_mode": {
    "name": "ipython",
    "version": 3
   },
   "file_extension": ".py",
   "mimetype": "text/x-python",
   "name": "python",
   "nbconvert_exporter": "python",
   "pygments_lexer": "ipython3",
   "version": "3.5.2"
  },
  "widgets": {
   "state": {},
   "version": "1.1.1"
  }
 },
 "nbformat": 4,
 "nbformat_minor": 1
}
