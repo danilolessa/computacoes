{
 "cells": [
  {
   "cell_type": "code",
   "execution_count": 4,
   "metadata": {
    "collapsed": false
   },
   "outputs": [],
   "source": [
    "import netCDF4 as nc"
   ]
  },
  {
   "cell_type": "code",
   "execution_count": 5,
   "metadata": {
    "collapsed": true
   },
   "outputs": [],
   "source": [
    "root = nc.Dataset(\"test.nc\", \"r\")"
   ]
  },
  {
   "cell_type": "code",
   "execution_count": 38,
   "metadata": {
    "collapsed": false
   },
   "outputs": [
    {
     "data": {
      "text/plain": [
       "array(1387756800, dtype=int32)"
      ]
     },
     "execution_count": 38,
     "metadata": {},
     "output_type": "execute_result"
    }
   ],
   "source": [
    "root[\"base_time\"][:]"
   ]
  },
  {
   "cell_type": "code",
   "execution_count": 43,
   "metadata": {
    "collapsed": false
   },
   "outputs": [
    {
     "data": {
      "text/plain": [
       "<class 'netCDF4._netCDF4.Variable'>\n",
       "float64 time_offset(time)\n",
       "    long_name: Time offset from base_time\n",
       "    units: seconds since 2013-12-23 00:00:00 0:00\n",
       "    ancillary_variables: base_time\n",
       "unlimited dimensions: time\n",
       "current shape = (1440,)\n",
       "filling off"
      ]
     },
     "execution_count": 43,
     "metadata": {},
     "output_type": "execute_result"
    }
   ],
   "source": [
    "root[\"time_offset\"]"
   ]
  },
  {
   "cell_type": "code",
   "execution_count": 44,
   "metadata": {
    "collapsed": false
   },
   "outputs": [
    {
     "data": {
      "text/plain": [
       "<class 'netCDF4._netCDF4.Dataset'>\n",
       "root group (NETCDF3_CLASSIC data model, file format NETCDF3):\n",
       "    Conventions: ARM-1.1\n",
       "    command_line: radflux1long_vap -s mao -f M1 -b 20131220 -e 20151201 -n radflux1longc2 require_goodday 0 -D 2\n",
       "    process_version: vap-radflux1long-2.3-0.el6\n",
       "    dod_version: radflux1long-c2-1.4\n",
       "    site_id: mao\n",
       "    facility_id: M1\n",
       "    platform_id: radflux1long\n",
       "    location_description: Green Ocean Amazon (GOAMAZON), Manacapuru, Amazonia, Brazil\n",
       "    data_level: c2\n",
       "    rh_factor_flag: 1\n",
       "    rh_factor_flag_comment: 0 = no_coef_applied 1 = calculate_coef 2 = use_std_coef 3 = use_coef_from_prev_run\n",
       "    fitmode: 0\n",
       "    fitmode_comment: 01 = daily_fit 00 =  1_fit\n",
       "    input_datastreams: maoqcrad1longM1.c2 : 0.5 : 20131220.000000-20151201.000000\n",
       "    datastream: maoradflux1longM1.c2\n",
       "    doi: 10.5439/1157585\n",
       "    history: created by user gaustad on machine amber at 2016-03-18 19:55:19, using vap-radflux1long-2.3-0.el6\n",
       "    dimensions(sizes): time(1440), bound(2)\n",
       "    variables(dimensions): int32 \u001b[4mbase_time\u001b[0m(), float64 \u001b[4mtime_offset\u001b[0m(time), float64 \u001b[4mtime\u001b[0m(time), float64 \u001b[4mtime_bounds\u001b[0m(time,bound), float32 \u001b[4mdownwelling_shortwave\u001b[0m(time), int32 \u001b[4msource_downwelling_shortwave\u001b[0m(time), int32 \u001b[4mqc_downwelling_shortwave\u001b[0m(time), float32 \u001b[4mclearsky_downwelling_shortwave\u001b[0m(time), float32 \u001b[4mdownwelling_longwave\u001b[0m(time), int32 \u001b[4mqc_downwelling_longwave\u001b[0m(time), float32 \u001b[4mclearsky_downwelling_longwave\u001b[0m(time), float32 \u001b[4mupwelling_shortwave\u001b[0m(time), int32 \u001b[4mqc_upwelling_shortwave\u001b[0m(time), float32 \u001b[4mclearsky_upwelling_shortwave\u001b[0m(time), float32 \u001b[4mupwelling_longwave\u001b[0m(time), int32 \u001b[4mqc_upwelling_longwave\u001b[0m(time), float32 \u001b[4mclearsky_upwelling_longwave\u001b[0m(time), float32 \u001b[4mdiffuse_downwelling_shortwave\u001b[0m(time), int32 \u001b[4msource_diffuse_downwelling_shortwave\u001b[0m(time), int32 \u001b[4mqc_diffuse_downwelling_shortwave\u001b[0m(time), float32 \u001b[4mclearsky_diffuse_downwelling_shortwave\u001b[0m(time), float32 \u001b[4mdirect_downwelling_shortwave\u001b[0m(time), int32 \u001b[4msource_direct_downwelling_shortwave\u001b[0m(time), int32 \u001b[4mqc_direct_downwelling_shortwave\u001b[0m(time), float32 \u001b[4mclearsky_direct_downwelling_shortwave\u001b[0m(time), int32 \u001b[4mclearsky_status\u001b[0m(time), float32 \u001b[4mcloudfraction_longwave\u001b[0m(time), float32 \u001b[4mcloudfraction_shortwave\u001b[0m(time), int32 \u001b[4mcloudfraction_shortwave_status\u001b[0m(time), float32 \u001b[4mvisible_cloud_optical_depth\u001b[0m(time), float32 \u001b[4mbrightness_temperature\u001b[0m(time), float32 \u001b[4mcloud_radiating_temperature\u001b[0m(time), float32 \u001b[4mclearsky_emissivity_longwave\u001b[0m(time), float32 \u001b[4mcosine_zenith\u001b[0m(time), float32 \u001b[4mcloud_transmissivity_shortwave\u001b[0m(time), int32 \u001b[4mtau_asymmetry_parameter_status\u001b[0m(time), int32 \u001b[4mtau_temperature_limit_status\u001b[0m(time), float32 \u001b[4mice_cloud_temperature_limit\u001b[0m(time), float32 \u001b[4mrh_adjustment_to_clearsky_emissivity_longwave\u001b[0m(time), float32 \u001b[4mwind_speed\u001b[0m(time), int32 \u001b[4mqc_wind_speed\u001b[0m(time), float32 \u001b[4mwind_direction\u001b[0m(time), int32 \u001b[4mqc_wind_direction\u001b[0m(time), float32 \u001b[4mair_temperature\u001b[0m(time), int32 \u001b[4mqc_air_temperature\u001b[0m(time), float32 \u001b[4mrelative_humidity\u001b[0m(time), int32 \u001b[4mqc_relative_humidity\u001b[0m(time), float32 \u001b[4mvapor_pressure\u001b[0m(time), float32 \u001b[4mpressure\u001b[0m(time), int32 \u001b[4mqc_pressure\u001b[0m(time), float32 \u001b[4mprecipitation\u001b[0m(time), int32 \u001b[4mqc_precipitation\u001b[0m(time), float32 \u001b[4mlat\u001b[0m(), float32 \u001b[4mlon\u001b[0m(), float32 \u001b[4malt\u001b[0m()\n",
       "    groups: "
      ]
     },
     "execution_count": 44,
     "metadata": {},
     "output_type": "execute_result"
    }
   ],
   "source": [
    "root"
   ]
  },
  {
   "cell_type": "code",
   "execution_count": 53,
   "metadata": {
    "collapsed": false
   },
   "outputs": [
    {
     "data": {
      "text/plain": [
       "<class 'netCDF4._netCDF4.Variable'>\n",
       "int32 base_time()\n",
       "    string: 2013-12-23 00:00:00 0:00\n",
       "    long_name: Base time in Epoch\n",
       "    units: seconds since 1970-1-1 0:00:00 0:00\n",
       "    ancillary_variables: time_offset\n",
       "unlimited dimensions: \n",
       "current shape = ()\n",
       "filling off"
      ]
     },
     "execution_count": 53,
     "metadata": {},
     "output_type": "execute_result"
    }
   ],
   "source": [
    "root[\"base_time\"]"
   ]
  },
  {
   "cell_type": "code",
   "execution_count": null,
   "metadata": {
    "collapsed": true
   },
   "outputs": [],
   "source": []
  }
 ],
 "metadata": {
  "kernelspec": {
   "display_name": "Python 3",
   "language": "python",
   "name": "python3"
  },
  "language_info": {
   "codemirror_mode": {
    "name": "ipython",
    "version": 3
   },
   "file_extension": ".py",
   "mimetype": "text/x-python",
   "name": "python",
   "nbconvert_exporter": "python",
   "pygments_lexer": "ipython3",
   "version": "3.5.2"
  }
 },
 "nbformat": 4,
 "nbformat_minor": 1
}
