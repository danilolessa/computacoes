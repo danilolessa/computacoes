{
 "cells": [
  {
   "cell_type": "code",
   "execution_count": 18,
   "metadata": {
    "collapsed": false
   },
   "outputs": [],
   "source": [
    "%matplotlib notebook\n",
    "import netCDF4 as nc\n",
    "import numpy as np\n",
    "import xie_liu as xl\n",
    "import matplotlib.pyplot as plt\n",
    "import pandas as pd\n",
    "import pickle"
   ]
  },
  {
   "cell_type": "code",
   "execution_count": 2,
   "metadata": {
    "collapsed": true
   },
   "outputs": [],
   "source": [
    "root = nc.Dataset(\"dados/maoradflux1long/maoradflux1longM1.c2.20140223.040000.nc\", \"r\")"
   ]
  },
  {
   "cell_type": "code",
   "execution_count": 3,
   "metadata": {
    "collapsed": false
   },
   "outputs": [],
   "source": [
    "    dataset = root\n",
    "    cf = dataset[\"cloudfraction_longwave\"][:]\n",
    "    base_time = dataset[\"base_time\"][0]\n",
    "    time_offset = dataset[\"time_offset\"][:]\n",
    "    time = (time_offset) / (60 * 60)\n",
    "    Fdn_clr = dataset[\"clearsky_downwelling_shortwave\"][:]\n",
    "    Fdn_all = dataset[\"downwelling_shortwave\"][:]\n",
    "    Fup_all = dataset[\"upwelling_shortwave\"][:]\n",
    "    Fdn_clr_d = dataset[\"clearsky_diffuse_downwelling_shortwave\"][:]\n",
    "    Fdn_all_d = dataset[\"direct_downwelling_shortwave\"][:]\n",
    "    T = dataset[\"cloud_transmissivity_shortwave\"][:]"
   ]
  },
  {
   "cell_type": "code",
   "execution_count": 4,
   "metadata": {
    "collapsed": true
   },
   "outputs": [],
   "source": [
    "(B1, B2) = xl.get_B(Fdn_clr, Fdn_all, Fup_all, Fdn_clr_d, Fdn_all_d, T)"
   ]
  },
  {
   "cell_type": "markdown",
   "metadata": {
    "collapsed": false
   },
   "source": [
    "Bup = Fdn_clr - Fdn_all\n",
    "Bdo = Fdn_clr - Fup_all * T * T"
   ]
  },
  {
   "cell_type": "markdown",
   "metadata": {
    "collapsed": false
   },
   "source": [
    "plt.plot(Bup, Bdo, '.')\n",
    "plt.plot(Bup, Bup)\n",
    "plt.plot(np.zeros(len(Bup)), Bup)\n",
    "plt.show()"
   ]
  },
  {
   "cell_type": "code",
   "execution_count": 5,
   "metadata": {
    "collapsed": false
   },
   "outputs": [],
   "source": [
    "result = {\"CloudAlbedo\":[], \"CloudAlbedoCorrected\": [], \"CloudFraction\": [], \"CloudFractionCorrected\": [], \"Time\": []}\n",
    "path = \"dados/maoradflux1long/maoradflux1longM1.c2.20150413.040000.nc\"\n",
    "res = xl.do_work(path)\n",
    "result[\"CloudAlbedo\"].extend(res[0])\n",
    "result[\"CloudAlbedoCorrected\"].extend(res[1])\n",
    "result[\"CloudFraction\"].extend(res[2])\n",
    "result[\"CloudFractionCorrected\"].extend(res[3])\n",
    "result[\"Time\"].extend(res[4])\n",
    "df = pd.DataFrame(result)"
   ]
  },
  {
   "cell_type": "code",
   "execution_count": null,
   "metadata": {
    "collapsed": true
   },
   "outputs": [],
   "source": []
  }
 ],
 "metadata": {
  "kernelspec": {
   "display_name": "Python 3",
   "language": "python",
   "name": "python3"
  },
  "language_info": {
   "codemirror_mode": {
    "name": "ipython",
    "version": 3
   },
   "file_extension": ".py",
   "mimetype": "text/x-python",
   "name": "python",
   "nbconvert_exporter": "python",
   "pygments_lexer": "ipython3",
   "version": "3.5.2"
  },
  "widgets": {
   "state": {},
   "version": "1.1.1"
  }
 },
 "nbformat": 4,
 "nbformat_minor": 1
}
