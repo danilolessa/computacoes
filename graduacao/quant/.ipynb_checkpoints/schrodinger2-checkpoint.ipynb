{
 "cells": [
  {
   "cell_type": "code",
   "execution_count": 234,
   "metadata": {
    "collapsed": false
   },
   "outputs": [],
   "source": [
    "#Equação de Schrondinger para duas partículas\n",
    "\n",
    "#Danilo Lessa Bernardineli\n",
    "%matplotlib inline\n",
    "import numpy as np\n",
    "import matplotlib\n",
    "import matplotlib.pyplot as plt\n",
    "import matplotlib.animation as manimation"
   ]
  },
  {
   "cell_type": "code",
   "execution_count": 235,
   "metadata": {
    "collapsed": true
   },
   "outputs": [],
   "source": [
    "### Parâmetros das condições iniciais ###\n",
    "#Particula 1\n",
    "params_x = {\"x_c\": -0.2, \"s\": 0.05, \"k_0\": 30.0, \"m\": 1.0}\n",
    "mx = 1.0\n",
    "\n",
    "#Particula 2\n",
    "params_y = {\"x_c\": 0.2, \"s\": 0.05, \"k_0\": -30.0, \"m\": 2.0}\n",
    "my = 2.0\n",
    "\n",
    "#Parâmetros do potencial barreira\n",
    "V_0 = 1000\n",
    "alfa = 1\n",
    "\n",
    "def V(r):\n",
    "    return V_0 * np.exp(-alfa * r)"
   ]
  },
  {
   "cell_type": "code",
   "execution_count": 236,
   "metadata": {
    "collapsed": false
   },
   "outputs": [],
   "source": [
    "### Parâmetros de simulação ###\n",
    "\n",
    "#Intervalo no eixo x\n",
    "x_i = -0.5\n",
    "x_f = 0.5\n",
    "\n",
    "#Intervalo temporal\n",
    "t_0 = 0\n",
    "t_f = 0.01\n",
    "\n",
    "#Passos\n",
    "dt = 0.0001\n",
    "r = 0.075\n",
    "dx = np.sqrt(dt / (2 * r))\n",
    "dx2 = dx ** 2\n",
    "\n",
    "#Tamanho das matrizes de simulação\n",
    "Nt = int((t_f - t_0) / dt)\n",
    "Nx = int((x_f - x_i) / dx)\n",
    "\n",
    "#Discretização do espaço contínuo\n",
    "Td = np.arange(Nt, dtype=np.int)\n",
    "Xd = np.arange(Nx, dtype=np.int)\n",
    "e = 1e-7\n",
    "Yd = np.arange(Nx, dtype=np.int)\n",
    "\n",
    "#Representação no espaço contínuo\n",
    "T = Td * dt\n",
    "X = (Xd * dx) + x_i\n",
    "Y = (Yd * dx) + x_i + dx/2"
   ]
  },
  {
   "cell_type": "code",
   "execution_count": 237,
   "metadata": {
    "collapsed": true
   },
   "outputs": [],
   "source": [
    "def waveFunction(x, params):\n",
    "    \"\"\"Initial time-indepedent wavefunction.\n",
    "    Keyword arguments:\n",
    "    x -- Wavefunction on the x position\n",
    "    \"\"\"\n",
    "    x_c = params[\"x_c\"]\n",
    "    k_0 = params[\"k_0\"]\n",
    "    s = params[\"s\"]\n",
    "    \n",
    "    expoent = (-1/2) * (((x - x_c) / s)) ** 2\n",
    "    return np.exp(1j * k_0 * x) * np.sqrt(np.exp(expoent) / (s * np.sqrt(2 * np.pi)))\n",
    "\n",
    "\n",
    "def der_A(A, i):\n",
    "    if (i == 0):\n",
    "        return (A[i+1] - 2 * A[i]) / dx2\n",
    "    elif i == Nx - 1:\n",
    "        return (-2 * A[i] + A[i-1]) / dx2\n",
    "    else:\n",
    "        return (A[i+1] - 2 * A[i] + A[i-1]) / dx2\n",
    "\n",
    "def der_X(Wk, i, j):\n",
    "    return der_A(Wk[:, j], i)\n",
    "\n",
    "def der_Y(Wk, i, j):\n",
    "    return der_A(Wk[i, :], j)\n",
    "\n",
    "def der_RK(Wk, i, j, sign):\n",
    "    x = X[i]\n",
    "    y = Y[j]\n",
    "    r = np.abs(x - y)\n",
    "    \n",
    "    Axx = der_X(Wk, i, j)\n",
    "    Ayy = der_Y(Wk, i, j)\n",
    "    VA = V(r) * Wk[i, j]\n",
    "    #VA = 0\n",
    "\n",
    "    return sign * ((Axx / mx + Ayy / my) / 2 - VA)\n",
    "    \n",
    "def der_W(Wk, i, j):\n",
    "    R = np.real(Wk)\n",
    "    I = np.imag(Wk)\n",
    "    return der_RK(I, i, j, -1) + 1j * der_RK(R, i, j, 1)\n",
    "\n",
    "def get_H(Wk, i, j):\n",
    "    R = np.real(Wk)\n",
    "    I = np.imag(Wk)\n",
    "    return der_RK(R, i, j, -1) + 1j * der_RK(I, i, j, -1)"
   ]
  },
  {
   "cell_type": "code",
   "execution_count": 238,
   "metadata": {
    "collapsed": false
   },
   "outputs": [],
   "source": [
    "W = np.zeros((Nx, Nx, Nt), dtype=np.complex_)\n",
    "Wconj = np.zeros((Nx, Nx, Nt), dtype=np.complex_)\n",
    "H = np.zeros((Nx, Nx, Nt), dtype=np.complex_)\n",
    "\n",
    "Wabs = np.zeros((Nx, Nx, Nt))\n",
    "Px = np.zeros((Nx, Nt))\n",
    "Py = np.zeros((Nx, Nt))\n",
    "\n",
    "N = np.zeros(Nt)\n",
    "E = np.zeros(Nt, dtype=np.complex_)\n",
    "\n",
    "def post_process(k, W, H, E, N, Wconj, Wabs, Px, Py):   \n",
    "  \n",
    "    Wk = W[:, :, k]\n",
    "    Wconj[:, :, k] = np.conj(Wk)\n",
    "    Wabs[:, :, k] = np.abs(Wk)\n",
    "    N[k] = np.sum(Wabs[:, :, k] ** 2 * dx2)\n",
    "    \n",
    "    for i in Xd:\n",
    "        for j in Yd:\n",
    "            Wijk = W[i, j, k]\n",
    "            H[i, j, k] = get_H(Wk, i, j)\n",
    "            Px[i, k] += Wabs[i, j, k] ** 2 * dx\n",
    "            Py[j, k] += Wabs[i, j, k] ** 2 * dx\n",
    "            \n",
    "    E[k] = np.sum(Wconj[:, :, k] * H[:, :, k] * dx2) / N[k]    "
   ]
  },
  {
   "cell_type": "code",
   "execution_count": 239,
   "metadata": {
    "collapsed": false
   },
   "outputs": [],
   "source": [
    "for k in Td:\n",
    "    t = T[k]\n",
    "    \n",
    "    if k == 0:\n",
    "        for i in Xd:\n",
    "            x = X[i]\n",
    "            for j in Yd:\n",
    "                y = Y[j]\n",
    "                Wijk = waveFunction(x, params_x) * waveFunction(y, params_y)\n",
    "                W[i, j, k] = Wijk\n",
    "    else:\n",
    "        Wk = W[:, :, k-1]\n",
    "        half_Wk = np.zeros((Nx, Nx), dtype=np.complex_)\n",
    "\n",
    "        #Primeira parte do RK2\n",
    "        for i in Xd:\n",
    "            x = X[i]        \n",
    "            for j in Yd:\n",
    "                y = Y[j]\n",
    "\n",
    "                #\n",
    "                Wijk = W[i, j, k-1]\n",
    "\n",
    "                #Derivada total\n",
    "                k1 = der_W(Wk, i, j) * dt\n",
    "\n",
    "                #Aproximação\n",
    "                half_Wk[i, j] = Wijk + k1 / 2\n",
    "\n",
    "\n",
    "        #Segunda parte do RK2\n",
    "        for i in Xd:\n",
    "            x = X[i]        \n",
    "            for j in Yd:\n",
    "                y = Y[j]\n",
    "\n",
    "                Wijk = half_Wk[i, j]\n",
    "\n",
    "                #Derivada no meio passo\n",
    "                k2 = der_W(Wk, i, j) * dt\n",
    "\n",
    "                #Aproximação final\n",
    "                Wijk = Wijk + k2\n",
    "                W[i, j, k] = Wijk\n",
    "\n",
    "    post_process(k, W, H, E, N, Wconj, Wabs, Px, Py)            "
   ]
  },
  {
   "cell_type": "code",
   "execution_count": 240,
   "metadata": {
    "collapsed": false
   },
   "outputs": [],
   "source": [
    "def plot_interactive(k):\n",
    "    plt.plot(X, Px[:, k], 'b', label=\"$|\\phi_1(x_1)|^2$\")\n",
    "    plt.plot(Y, Py[:, k], 'r', label=\"$|\\phi_2(x_2)|^2$\")\n",
    "    plt.suptitle(\"%s\" % k)\n",
    "    plt.title(\"Função de onda conjunta $\\Psi(x_1, x_2, t)$\")\n",
    "    plt.legend()\n",
    "    plt.xlabel(\"x\")\n",
    "    plt.ylabel(\"$P(x)^2$\")"
   ]
  },
  {
   "cell_type": "code",
   "execution_count": 241,
   "metadata": {
    "collapsed": true
   },
   "outputs": [],
   "source": [
    "def plot_matrix(k):\n",
    "    plt.subplot(311)\n",
    "    plt.imshow(np.real(W[:, :, k]))\n",
    "    plt.xlabel(\"$x_1$\")\n",
    "    plt.ylabel(\"$x_2$\")\n",
    "    \n",
    "    plt.subplot(312)\n",
    "    plt.imshow(np.imag(W[:, :, k]))\n",
    "    plt.xlabel(\"$x_1$\")\n",
    "    plt.ylabel(\"$x_2$\")\n",
    "    \n",
    "    plt.subplot(313)\n",
    "    plt.imshow(np.abs(W[:, :, k]))    \n",
    "    plt.xlabel(\"$x_1$\")\n",
    "    plt.ylabel(\"$x_2$\")\n",
    "    \n",
    "    plt.suptitle(\"%s\" % k)"
   ]
  },
  {
   "cell_type": "code",
   "execution_count": 242,
   "metadata": {
    "collapsed": true
   },
   "outputs": [],
   "source": [
    "def make_movie(plot_f, fname):\n",
    "    FFMpegWriter = manimation.writers['ffmpeg']\n",
    "    writer = FFMpegWriter(fps=10)\n",
    "    fig = plt.figure();\n",
    "    with writer.saving(fig, fname, 200):\n",
    "        for k in range(0, Nt-1):\n",
    "            plot_f(k);\n",
    "            writer.grab_frame();\n",
    "            plt.clf();"
   ]
  },
  {
   "cell_type": "code",
   "execution_count": 243,
   "metadata": {
    "collapsed": false
   },
   "outputs": [
    {
     "data": {
      "image/png": "[encoded data removed]",
      "text/plain": [
       "<matplotlib.figure.Figure at 0x7f0b3c3c7a20>"
      ]
     },
     "metadata": {},
     "output_type": "display_data"
    }
   ],
   "source": [
    "plt.plot(Td, N)\n",
    "plt.xlabel(\"Iterações\")\n",
    "plt.ylabel(\"N\")\n",
    "plt.savefig(\"norma.png\")\n",
    "plt.show()"
   ]
  },
  {
   "cell_type": "code",
   "execution_count": 244,
   "metadata": {
    "collapsed": false,
    "scrolled": false
   },
   "outputs": [
    {
     "data": {
      "image/png": "[encoded data removed]",
      "text/plain": [
       "<matplotlib.figure.Figure at 0x7f0b3c3c7cf8>"
      ]
     },
     "metadata": {},
     "output_type": "display_data"
    }
   ],
   "source": [
    "plt.plot(Td, np.real(E), label=\"Re[E]\")\n",
    "plt.plot(Td, np.imag(E), label=\"Im[E]\")\n",
    "plt.plot(Td, np.abs(E), label=\"|E|\")\n",
    "plt.plot(Td, np.zeros(len(Td)), '-k')\n",
    "plt.legend()\n",
    "plt.xlabel(\"Iterações\")\n",
    "plt.savefig(\"energia.png\")\n",
    "plt.show()"
   ]
  },
  {
   "cell_type": "code",
   "execution_count": 245,
   "metadata": {
    "collapsed": false
   },
   "outputs": [
    {
     "data": {
      "text/plain": [
       "<matplotlib.figure.Figure at 0x7f0b3c482438>"
      ]
     },
     "metadata": {},
     "output_type": "display_data"
    }
   ],
   "source": [
    "make_movie(plot_interactive, \"interacao.mp4\")"
   ]
  },
  {
   "cell_type": "code",
   "execution_count": null,
   "metadata": {
    "collapsed": true
   },
   "outputs": [],
   "source": []
  },
  {
   "cell_type": "code",
   "execution_count": null,
   "metadata": {
    "collapsed": true
   },
   "outputs": [],
   "source": []
  }
 ],
 "metadata": {
  "kernelspec": {
   "display_name": "Python 3",
   "language": "python",
   "name": "python3"
  },
  "language_info": {
   "codemirror_mode": {
    "name": "ipython",
    "version": 3
   },
   "file_extension": ".py",
   "mimetype": "text/x-python",
   "name": "python",
   "nbconvert_exporter": "python",
   "pygments_lexer": "ipython3",
   "version": "3.5.2"
  }
 },
 "nbformat": 4,
 "nbformat_minor": 0
}
