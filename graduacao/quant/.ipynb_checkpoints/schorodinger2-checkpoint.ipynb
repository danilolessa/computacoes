{
 "cells": [
  {
   "cell_type": "code",
   "execution_count": 83,
   "metadata": {
    "collapsed": false
   },
   "outputs": [],
   "source": [
    "#Equação de Schrondinger para duas partículas\n",
    "\n",
    "#Danilo Lessa Bernardineli\n",
    "%matplotlib inline\n",
    "import numpy as np\n",
    "import matplotlib.pyplot as plt\n",
    "import scipy.integrate as integ\n",
    "from ipywidgets import widgets"
   ]
  },
  {
   "cell_type": "code",
   "execution_count": 118,
   "metadata": {
    "collapsed": true
   },
   "outputs": [],
   "source": [
    "### Parâmetros das condições iniciais ###\n",
    "#Particula 1\n",
    "params_x = {\"x_c\": -0.2, \"s\": 0.05, \"k_0\": 30.0, \"m\": 1.0}\n",
    "mx = 1.0\n",
    "\n",
    "#Particula 2\n",
    "params_y = {\"x_c\": 0.2, \"s\": 0.05, \"k_0\": -30.0, \"m\": 2.0}\n",
    "my = 2.0\n",
    "\n",
    "#Parâmetros do potencial barreira\n",
    "V_0 = 1.0\n",
    "alfa = 1.0\n",
    "\n",
    "def V(r):\n",
    "    return 0\n",
    "    #return V_0 * np.exp(-alfa * r)"
   ]
  },
  {
   "cell_type": "code",
   "execution_count": 119,
   "metadata": {
    "collapsed": false
   },
   "outputs": [],
   "source": [
    "### Parâmetros de simulação ###\n",
    "\n",
    "#Intervalo no eixo x\n",
    "x_i = -1\n",
    "x_f = 1\n",
    "\n",
    "#Intervalo temporal\n",
    "t_0 = 0\n",
    "t_f = 0.001\n",
    "\n",
    "#Passos\n",
    "dt = 0.0001\n",
    "r = 0.075\n",
    "dx = np.sqrt(dt / (2 * r))\n",
    "dx2 = 2 * dx ** 2\n",
    "\n",
    "#Tamanho das matrizes de simulação\n",
    "Nt = int((t_f - t_0) / dt)\n",
    "Nx = int((x_f - x_i) / dx)\n",
    "\n",
    "#Discretização do espaço contínuo\n",
    "Td = np.arange(Nt, dtype=np.int)\n",
    "Xd = np.arange(Nx, dtype=np.int)\n",
    "e = 1e-7\n",
    "Yd = np.arange(Nx, dtype=np.int)\n",
    "\n",
    "#Representação no espaço contínuo\n",
    "T = Td * dt\n",
    "X = (Xd * dx) + x_i\n",
    "Y = (Yd * dx) + x_i"
   ]
  },
  {
   "cell_type": "code",
   "execution_count": 134,
   "metadata": {
    "collapsed": true
   },
   "outputs": [],
   "source": [
    "def waveFunction(x, params):\n",
    "    \"\"\"Initial time-indepedent wavefunction.\n",
    "    Keyword arguments:\n",
    "    x -- Wavefunction on the x position\n",
    "    \"\"\"\n",
    "    x_c = params[\"x_c\"]\n",
    "    k_0 = params[\"k_0\"]\n",
    "    s = params[\"s\"]\n",
    "    \n",
    "    expoent = (-1/2) * (((x - x_c) / s)) ** 2\n",
    "    return np.exp(1j * k_0 * x) * np.sqrt(np.exp(expoent) / (s * np.sqrt(2 * np.pi)))\n",
    "\n",
    "\n",
    "def der_A(A, i):\n",
    "    if (i == 0) | (i == Nx-1):\n",
    "        return 0\n",
    "    return (A[i+1] - 2 * A[i] + A[i-i]) / dx2\n",
    "\n",
    "def der_X(Wk, i, j):\n",
    "    return der_A(Wk[:, j], i)\n",
    "\n",
    "def der_Y(Wk, i, j):\n",
    "    return der_A(Wk[i, :], j)\n",
    "\n",
    "def der_RK(Ak, i, j, sign):\n",
    "    x = X[i]\n",
    "    y = Y[j]\n",
    "    r = np.abs(x - y)\n",
    "    \n",
    "    Axx = der_X(Ak, i, j)\n",
    "    Ayy = der_Y(Ak, i, j)\n",
    "    VA = V(r) * Ak[i, j]\n",
    "\n",
    "    return sign * ((Axx / mx + Ayy / my) / 2 - VA)\n",
    "    \n",
    "def der_W(Wk, i, j):\n",
    "    R = np.real(Wk)\n",
    "    I = np.imag(Wk)\n",
    "    return der_RK(I, i, j, -1) + 1j * der_RK(R, i, j, 1)"
   ]
  },
  {
   "cell_type": "code",
   "execution_count": 153,
   "metadata": {
    "collapsed": false
   },
   "outputs": [],
   "source": [
    "W = np.zeros((Nx, Nx, Nt), dtype=np.complex_)\n",
    "Wabs = np.zeros((Nx, Nx, Nt))\n",
    "Ax = np.zeros((Nx, Nt))\n",
    "Ay = np.zeros((Nx, Nt))\n",
    "H = np.zeros((Nx, Nx, Nt), dtype=np.complex_)\n",
    "N = np.zeros(Nt)"
   ]
  },
  {
   "cell_type": "code",
   "execution_count": 154,
   "metadata": {
    "collapsed": false
   },
   "outputs": [],
   "source": [
    "for k in Td:\n",
    "    t = T[k]\n",
    "    \n",
    "    if t == 0:\n",
    "        for i in Xd:\n",
    "            x = X[i]\n",
    "            for j in Yd:\n",
    "                y = Y[j]\n",
    "                W[i, j, 0] = waveFunction(x, params_x) + waveFunction(y, params_y)\n",
    "    else:\n",
    "        Wk = W[:, :, k-1]\n",
    "        half_Wk = np.zeros((Nx, Nx), dtype=np.complex_)\n",
    "\n",
    "        #Primeira parte do RK2\n",
    "        for i in Xd:\n",
    "            x = X[i]        \n",
    "            for j in Yd:\n",
    "                y = Y[j]\n",
    "\n",
    "                #\n",
    "                Wijk = W[i, j, k-1]\n",
    "\n",
    "                #Derivada total\n",
    "                k1 = der_W(Wk, i, j) * dt\n",
    "\n",
    "                #Aproximação\n",
    "                half_Wk[i, j] = Wijk + k1 / 2\n",
    "\n",
    "\n",
    "        #Segunda parte do RK2\n",
    "        for i in Xd:\n",
    "            x = X[i]        \n",
    "            for j in Yd:\n",
    "                y = Y[j]\n",
    "\n",
    "                Wijk = half_Wk[i, j]\n",
    "\n",
    "                #Derivada no meio passo\n",
    "                k2 = der_W(Wk, i, j) * dt\n",
    "\n",
    "                #Aproximação final\n",
    "                W[i, j, k] = Wijk + k2\n",
    "    for i in Xd:\n",
    "        for j in Yd:\n",
    "            Wabs[i, j, k] = np.abs(W[i, j, k])\n",
    "            Ax[i, k] += Wabs[i, j, k] ** 2 * dx\n",
    "            Ay[j, k] += Wabs[i, j, k] ** 2 * dx\n",
    "            \n",
    "    N[k] = np.sum(np.abs(W[:, :, k]))\n",
    "    W[:, :, k] /= N[k]"
   ]
  },
  {
   "cell_type": "code",
   "execution_count": 155,
   "metadata": {
    "collapsed": false
   },
   "outputs": [
    {
     "data": {
      "image/png": "[encoded data removed]",
      "text/plain": [
       "<matplotlib.figure.Figure at 0x7f1af3f55320>"
      ]
     },
     "metadata": {},
     "output_type": "display_data"
    }
   ],
   "source": [
    "plt.plot(Td, N)\n",
    "plt.show()"
   ]
  },
  {
   "cell_type": "code",
   "execution_count": 156,
   "metadata": {
    "collapsed": false
   },
   "outputs": [
    {
     "data": {
      "image/png": "[encoded data removed]",
      "text/plain": [
       "<matplotlib.figure.Figure at 0x7f1af3f85400>"
      ]
     },
     "metadata": {},
     "output_type": "display_data"
    }
   ],
   "source": [
    "k = 9\n",
    "plt.plot(X, Ax[:, k], 'b')\n",
    "plt.plot(X, Ay[:, k], 'r')\n",
    "plt.show()"
   ]
  },
  {
   "cell_type": "code",
   "execution_count": 144,
   "metadata": {
    "collapsed": false
   },
   "outputs": [
    {
     "data": {
      "text/plain": [
       "100225888383.27519"
      ]
     },
     "execution_count": 144,
     "metadata": {},
     "output_type": "execute_result"
    }
   ],
   "source": [
    "N[2]"
   ]
  },
  {
   "cell_type": "code",
   "execution_count": null,
   "metadata": {
    "collapsed": true
   },
   "outputs": [],
   "source": []
  }
 ],
 "metadata": {
  "kernelspec": {
   "display_name": "Python 3",
   "language": "python",
   "name": "python3"
  },
  "language_info": {
   "codemirror_mode": {
    "name": "ipython",
    "version": 3
   },
   "file_extension": ".py",
   "mimetype": "text/x-python",
   "name": "python",
   "nbconvert_exporter": "python",
   "pygments_lexer": "ipython3",
   "version": "3.5.2"
  },
  "widgets": {
   "state": {},
   "version": "1.1.1"
  }
 },
 "nbformat": 4,
 "nbformat_minor": 0
}
