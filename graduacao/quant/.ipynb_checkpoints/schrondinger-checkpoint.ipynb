{
 "cells": [
  {
   "cell_type": "code",
   "execution_count": 1,
   "metadata": {
    "collapsed": true
   },
   "outputs": [],
   "source": [
    "#Resolução númerica da equação de Schrodinger por RK2\n",
    "#Com aplicações\n",
    "\n",
    "#Danilo Lessa Bernardineli\n",
    "%matplotlib inline\n",
    "import numpy as np\n",
    "import matplotlib.pyplot as plt\n",
    "import scipy.integrate as integ"
   ]
  },
  {
   "cell_type": "code",
   "execution_count": 2,
   "metadata": {
    "collapsed": true
   },
   "outputs": [],
   "source": [
    "### Parâmetros das condições iniciais ###\n",
    "x_c = -0.5\n",
    "s = 0.05\n",
    "k_0 = 30\n",
    "\n",
    "#Parâmetros do potencial barreira\n",
    "V_0 = 250\n",
    "x1 = -0.2\n",
    "x2 = 0\n",
    "\n",
    "### Parâmetros de simulação ###\n",
    "\n",
    "#Intervalo no eixo x\n",
    "x_i = -1\n",
    "x_f = 1\n",
    "\n",
    "#Intervalo temporal\n",
    "t_0 = 0\n",
    "t_f = 0.05\n",
    "\n",
    "#Passos\n",
    "dt = 0.0001\n",
    "r = 0.075\n",
    "dx = np.sqrt(dt / (2 * r))\n",
    "dx2 = 2 * dx ** 2\n",
    "\n",
    "#Tamanho das matrizes de simulação\n",
    "Nt = int((t_f - t_0) / dt)\n",
    "Nx = int((x_f - x_i) / dx)\n",
    "\n",
    "#Discretização do espaço contínuo\n",
    "Td = np.arange(Nt)\n",
    "Xd = np.arange(Nx)\n",
    "\n",
    "#Representação no espaço contínuo\n",
    "T = Td * dt\n",
    "X = (Xd * dx) + x_i"
   ]
  },
  {
   "cell_type": "code",
   "execution_count": 3,
   "metadata": {
    "collapsed": false
   },
   "outputs": [],
   "source": [
    "### Funções da simulação ###\n",
    "\n",
    "def V(i):\n",
    "    \"\"\"Potential function for using in the simulation.\n",
    "    Keyword arguments:\n",
    "    i -- Potential in the i array position\"\"\"\n",
    "    x = x_i + i * dx\n",
    "    if x > x1 and x < x2:\n",
    "        return V_0\n",
    "    else:\n",
    "        return 0   \n",
    "\n",
    "def waveFunction(x):\n",
    "    \"\"\"Initial time-indepedent wavefunction.\n",
    "    Keyword arguments:\n",
    "    x -- Wavefunction on the x position\n",
    "    \"\"\"\n",
    "    expoent = (-1/2) * (((x - x_c) / s)) ** 2\n",
    "    return np.exp(1j * k_0 * x) * np.sqrt(np.exp(expoent) / (s * np.sqrt(2 * np.pi)))\n",
    "\n",
    "def der_R(i, I):\n",
    "    \"\"\"Get the real part of the wavefunction derivative.\"\"\"\n",
    "    if i == 0:\n",
    "        return (2*I[i] - I[i+1]) / (dx2) + V(i) * I[i]\n",
    "    elif i >= len(I) - 1:\n",
    "        return (2*I[i] - I[i-1]) / (dx2) + V(i) * I[i]    \n",
    "    else:\n",
    "        return (2*I[i] - I[i+1] - I[i-1]) / (dx2) + V(i) * I[i]\n",
    "\n",
    "def der_I(i, R):\n",
    "    if i == 0:\n",
    "        return ( R[i+1] - 2*R[i]) / (dx2) - V(i) * R[i]\n",
    "    elif i >= len(R) - 1:\n",
    "        return ( R[i-1] - 2*R[i]) / (dx2) - V(i) * R[i]\n",
    "    else:\n",
    "        return ( R[i+1] + R[i-1] - 2*R[i]) / (dx2) - V(i) * R[i]\n",
    "    \n",
    "def HR(i, R):\n",
    "    \"\"\"Real part of the hamiltonian\"\"\"\n",
    "    if i == 0:\n",
    "        return -( R[i+1] - 2*R[i]) / (dx2) + V(i) * R[i]\n",
    "    elif i >= len(R) - 1:\n",
    "        return -( R[i-1] - 2*R[i]) / (dx2) + V(i) * R[i]\n",
    "    else:\n",
    "        return -( R[i+1] + R[i-1] - 2*R[i]) / (dx2) + V(i) * R[i]\n",
    "    \n",
    "def HI(i, I):\n",
    "    \"\"\"Imaginary part of the hamiltonian\"\"\"\n",
    "    if i == 0:\n",
    "        return (2*I[i] - I[i+1]) / (dx2) + V(i) * I[i]\n",
    "    elif i >= len(I) - 1:\n",
    "        return (2*I[i] - I[i-1]) / (dx2) + V(i) * I[i]    \n",
    "    else:\n",
    "        return (2*I[i] - I[i+1] - I[i-1]) / (dx2) + V(i) * I[i]"
   ]
  },
  {
   "cell_type": "code",
   "execution_count": 4,
   "metadata": {
    "collapsed": false
   },
   "outputs": [],
   "source": [
    "### Inicialização ###\n",
    "res_R = np.zeros((Nt, Nx))\n",
    "res_I = np.zeros((Nt, Nx))\n",
    "res_HR = np.zeros((Nt, Nx))\n",
    "res_HI = np.zeros((Nt, Nx))\n",
    "res_N = np.zeros((Nt, Nx)) #Norma\n",
    "norma = np.zeros(Nt) #Norma antes da renormalização\n",
    "res_R[0] = np.real(waveFunction(X))\n",
    "res_I[0] = np.imag(waveFunction(X))"
   ]
  },
  {
   "cell_type": "code",
   "execution_count": 5,
   "metadata": {
    "collapsed": false
   },
   "outputs": [],
   "source": [
    "### Resolução númerica ###\n",
    "\n",
    "#Resolução da função de onda por RK2\n",
    "for t in Td:\n",
    "    \n",
    "    if t == 0:\n",
    "        continue \n",
    "        \n",
    "    #Listas contendo os valores de meio-intervalo para o RK2\n",
    "    half_R = np.zeros(Nx)\n",
    "    half_I = np.zeros(Nx) \n",
    "    \n",
    "    #Primeira parte do RK2 - aproximando a função em meio passo\n",
    "    for x in Xd:\n",
    "        \n",
    "        #Valor da parte real e imaginária da função de onda em t-1\n",
    "        x0_r = res_R[t - 1, x]\n",
    "        x0_i = res_I[t - 1, x]\n",
    "        \n",
    "        #Derivadas das partes real e imaginária em t-1\n",
    "        k1_r = der_R(x, res_I[t - 1]) * dt\n",
    "        k1_i = der_I(x, res_R[t - 1]) * dt\n",
    "        \n",
    "        #Aproximação para a parte real e imaginária em t = (t - [t-1])/2\n",
    "        x1_r = x0_r + k1_r / 2\n",
    "        x1_i = x0_i + k1_i / 2\n",
    "        \n",
    "        #Armazenando o resultado acima\n",
    "        half_R[x] = x1_r\n",
    "        half_I[x] = x1_i\n",
    "    \n",
    "    #Segunda parte do RK2\n",
    "    for x in Xd:\n",
    "        \n",
    "        #Derivada das partes real e imaginária em (t - [t-1])/2\n",
    "        k2_r = der_R(x, half_I) * dt\n",
    "        k2_i = der_I(x, half_R) * dt\n",
    "        \n",
    "        #Armazenando a aproximação para a parte real e imaginária em t\n",
    "        res_R[t, x] = res_R[t - 1, x] + k2_r\n",
    "        res_I[t, x] = res_I[t - 1, x] + k2_i\n",
    "        \n",
    "    #Renormalização\n",
    "    for x in Xd:\n",
    "        res_N[t, x] = (res_R[t, x] ** 2 + res_I[t,x] ** 2) * dx\n",
    "    norma[t] = np.sum(res_N[t])\n",
    "    res_R[t] = res_R[t] / norma[t]\n",
    "    res_I[t] = res_I[t] / norma[t]     \n",
    "\n",
    "#Obtenção da energia\n",
    "for t in Td:\n",
    "    for x in Xd:\n",
    "        res_HR[t, x] = HR(x, res_R[t])\n",
    "        res_HI[t, x] = HI(x, res_I[t])   \n",
    "        "
   ]
  },
  {
   "cell_type": "code",
   "execution_count": 6,
   "metadata": {
    "collapsed": false
   },
   "outputs": [
    {
     "name": "stderr",
     "output_type": "stream",
     "text": [
      "/usr/local/lib/python3.5/dist-packages/ipykernel/__main__.py:7: RuntimeWarning: divide by zero encountered in cdouble_scalars\n"
     ]
    }
   ],
   "source": [
    "E_real = np.zeros(Nt)\n",
    "E_imag = np.zeros(Nt)\n",
    "Rc = np.zeros(Nt)\n",
    "Tc = np.zeros(Nt)\n",
    "for t in Td:\n",
    "    \n",
    "    e_t = np.sum((res_R[t] - 1j * res_I[t]) * (res_HR[t] + 1j * res_HI[t])) * dx / norma[t]\n",
    "    E_real[t] = e_t.real\n",
    "    E_imag[t] = e_t.imag\n",
    "    \n",
    "    for xd in Xd:\n",
    "        x = x_i + xd * dx\n",
    "        if x <= x1:\n",
    "            Rc[t] += res_N[t, xd]\n",
    "        if x >= x2:\n",
    "            Tc[t] += res_N[t, xd]\n",
    "            "
   ]
  },
  {
   "cell_type": "code",
   "execution_count": 7,
   "metadata": {
    "collapsed": false
   },
   "outputs": [
    {
     "data": {
      "image/png": "[encoded data removed]",
      "text/plain": [
       "<matplotlib.figure.Figure at 0x7fa8ce4619b0>"
      ]
     },
     "metadata": {},
     "output_type": "display_data"
    }
   ],
   "source": [
    "plt.plot(T, norma)\n",
    "plt.title(\"Norma da função simulada\")\n",
    "plt.ylabel(\"Norma\")\n",
    "plt.xlabel(\"Tempo (s)\")\n",
    "plt.show()"
   ]
  },
  {
   "cell_type": "code",
   "execution_count": 8,
   "metadata": {
    "collapsed": false
   },
   "outputs": [
    {
     "data": {
      "image/png": "[encoded data removed]",
      "text/plain": [
       "<matplotlib.figure.Figure at 0x7fa8cb6a9cc0>"
      ]
     },
     "metadata": {},
     "output_type": "display_data"
    }
   ],
   "source": [
    "plt.plot(T, E_real, label=\"Re[E]\")\n",
    "plt.plot(T, E_imag, label=\"Im[E]\")\n",
    "plt.title(\"Energia da função simulada\")\n",
    "plt.legend()\n",
    "plt.ylabel(\"E\")\n",
    "plt.xlabel(\"Tempo\")\n",
    "plt.show()"
   ]
  },
  {
   "cell_type": "code",
   "execution_count": 9,
   "metadata": {
    "collapsed": false
   },
   "outputs": [
    {
     "data": {
      "image/png": "[encoded data removed]",
      "text/plain": [
       "<matplotlib.figure.Figure at 0x7fa8cb6d98d0>"
      ]
     },
     "metadata": {},
     "output_type": "display_data"
    }
   ],
   "source": [
    "plt.plot(T, Rc, label=\"Reflexão\")\n",
    "plt.plot(T, Tc, label=\"Transmissão\")\n",
    "plt.title(\"Reflexão e transmissão da função de onda\")\n",
    "plt.legend()\n",
    "plt.ylabel(\"T/R\")\n",
    "plt.xlabel(\"Tempo\")\n",
    "plt.ylim((0, 1.01))\n",
    "plt.show()"
   ]
  }
 ],
 "metadata": {
  "kernelspec": {
   "display_name": "Python 3",
   "language": "python",
   "name": "python3"
  },
  "language_info": {
   "codemirror_mode": {
    "name": "ipython",
    "version": 3
   },
   "file_extension": ".py",
   "mimetype": "text/x-python",
   "name": "python",
   "nbconvert_exporter": "python",
   "pygments_lexer": "ipython3",
   "version": "3.5.2"
  }
 },
 "nbformat": 4,
 "nbformat_minor": 0
}
