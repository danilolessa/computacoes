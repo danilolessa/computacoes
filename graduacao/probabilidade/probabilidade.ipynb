{
 "cells": [
  {
   "cell_type": "code",
   "execution_count": 1,
   "metadata": {
    "collapsed": true
   },
   "outputs": [],
   "source": [
    "%matplotlib inline\n",
    "import numpy as np\n",
    "import sympy as sp\n",
    "import matplotlib.pyplot as plt"
   ]
  },
  {
   "cell_type": "code",
   "execution_count": 2,
   "metadata": {
    "collapsed": true
   },
   "outputs": [],
   "source": [
    "########## 2 ##########"
   ]
  },
  {
   "cell_type": "code",
   "execution_count": 3,
   "metadata": {
    "collapsed": false
   },
   "outputs": [
    {
     "name": "stderr",
     "output_type": "stream",
     "text": [
      "/usr/local/lib/python3.5/dist-packages/ipykernel/__main__.py:1: VisibleDeprecationWarning: using a non-integer number instead of an integer will result in an error in the future\n",
      "  if __name__ == '__main__':\n",
      "/usr/local/lib/python3.5/dist-packages/ipykernel/__main__.py:3: RuntimeWarning: divide by zero encountered in true_divide\n",
      "  app.launch_new_instance()\n"
     ]
    },
    {
     "data": {
      "image/png": "[encoded data removed]",
      "text/plain": [
       "<matplotlib.figure.Figure at 0x7f4b5bae57b8>"
      ]
     },
     "metadata": {},
     "output_type": "display_data"
    }
   ],
   "source": [
    "a = np.cos(np.random.rand(1e5) * np.pi)\n",
    "x = np.linspace(0, np.pi - 1e-2, 1e3)\n",
    "b = 1 / (2 * np.pi * np.sin(x))\n",
    "plt.plot(x, b, '.')\n",
    "#plt.hist(a, bins=100)\n",
    "plt.show()"
   ]
  },
  {
   "cell_type": "code",
   "execution_count": null,
   "metadata": {
    "collapsed": true
   },
   "outputs": [],
   "source": []
  },
  {
   "cell_type": "code",
   "execution_count": 147,
   "metadata": {
    "collapsed": true
   },
   "outputs": [],
   "source": [
    "########## 3 ##########"
   ]
  },
  {
   "cell_type": "code",
   "execution_count": null,
   "metadata": {
    "collapsed": true
   },
   "outputs": [],
   "source": []
  },
  {
   "cell_type": "code",
   "execution_count": 221,
   "metadata": {
    "collapsed": false
   },
   "outputs": [
    {
     "data": {
      "text/plain": [
       "174071.86363636365"
      ]
     },
     "execution_count": 221,
     "metadata": {},
     "output_type": "execute_result"
    }
   ],
   "source": [
    "########## 4 ##########\n",
    "def bin(a, b):\n",
    "    return math.factorial(a) / (math.factorial(b) * math.factorial(a-b))\n",
    "\n",
    "n = 21\n",
    "m = 0\n",
    "sum_bin = 0\n",
    "for k in range(0, n-m):\n",
    "    sum_bin += bin(n-m, k) / (m + 2 + k)\n",
    "resul = bin(n, m) * sum_bin\n",
    "resul"
   ]
  },
  {
   "cell_type": "code",
   "execution_count": 234,
   "metadata": {
    "collapsed": false
   },
   "outputs": [
    {
     "data": {
      "text/plain": [
       "0.0014769230769230768"
      ]
     },
     "execution_count": 234,
     "metadata": {},
     "output_type": "execute_result"
    }
   ],
   "source": [
    "n = 23\n",
    "m = 0\n",
    "p = (m+1) / (n+2)\n",
    "sm = (m+2)*(m+1) / ((n+2)*(n+3))\n",
    "sm - p ** 2"
   ]
  },
  {
   "cell_type": "code",
   "execution_count": 59,
   "metadata": {
    "collapsed": false
   },
   "outputs": [
    {
     "data": {
      "image/png": "[encoded data removed]",
      "text/plain": [
       "<matplotlib.figure.Figure at 0x7f4b587c09b0>"
      ]
     },
     "metadata": {},
     "output_type": "display_data"
    }
   ],
   "source": [
    "########## 5 ##########\n",
    "siz = int(1e6)\n",
    "(y1, y2) = np.random.rand(2, siz)\n",
    "x1 = np.sqrt(-2 * np.log(y1))*np.sin(2*np.pi*y2)\n",
    "x2 = np.sqrt(-2 * np.log(y1))*np.cos(2*np.pi*y2)\n",
    "plt.hist2d(x1,x2, bins=50, normed=True)\n",
    "plt.clim(0, 0.16)\n",
    "plt.colorbar(ticks=[0, 0.05, 0.1, 0.15, 0.2])\n",
    "plt.xlim(-5, 5)\n",
    "plt.ylim(-5, 5)\n",
    "plt.show()"
   ]
  },
  {
   "cell_type": "code",
   "execution_count": 60,
   "metadata": {
    "collapsed": false
   },
   "outputs": [
    {
     "data": {
      "text/plain": [
       "<matplotlib.colorbar.Colorbar at 0x7f4b588a5cc0>"
      ]
     },
     "execution_count": 60,
     "metadata": {},
     "output_type": "execute_result"
    },
    {
     "data": {
      "image/png": "[encoded data removed]",
      "text/plain": [
       "<matplotlib.figure.Figure at 0x7f4b587a0cf8>"
      ]
     },
     "metadata": {},
     "output_type": "display_data"
    }
   ],
   "source": [
    "siz = int(1e2)\n",
    "x1 = np.linspace(-5, 5, siz)\n",
    "x2 = np.linspace(-5, 5, siz)\n",
    "z = np.zeros((siz, siz))\n",
    "for i in range(0, siz):\n",
    "    for j in range(0 ,siz):\n",
    "        z[i, j] = np.exp(-(x1[i] ** 2 + x2[j] ** 2))\n",
    "z *= 1 / (2 * np.pi)\n",
    "plt.matshow(z)\n",
    "plt.clim(0, 0.16)\n",
    "plt.colorbar(ticks=[0, 0.05, 0.1, 0.15, 0.2])"
   ]
  },
  {
   "cell_type": "code",
   "execution_count": null,
   "metadata": {
    "collapsed": true
   },
   "outputs": [],
   "source": [
    "l = np.linspace(50*1.6, 70*1.8, siz)\n",
    "z = a * m "
   ]
  },
  {
   "cell_type": "code",
   "execution_count": 39,
   "metadata": {
    "collapsed": false
   },
   "outputs": [],
   "source": [
    "#######3 6 #####3\n",
    "f = 0.2\n",
    "g = 0.9\n",
    "h = 0.3\n",
    "c = 0.25\n",
    "\n",
    "t1 = f *g\n",
    "t2 = (1-f)*h\n",
    "\n",
    "c1 = t1*c\n",
    "c2 = t2*c\n",
    "\n",
    "cd = (c1/(c1+c2))"
   ]
  },
  {
   "cell_type": "code",
   "execution_count": 182,
   "metadata": {
    "collapsed": false,
    "scrolled": true
   },
   "outputs": [
    {
     "name": "stderr",
     "output_type": "stream",
     "text": [
      "/usr/local/lib/python3.5/dist-packages/ipykernel/__main__.py:6: VisibleDeprecationWarning: using a non-integer number instead of an integer will result in an error in the future\n"
     ]
    },
    {
     "data": {
      "image/png": "[encoded data removed]",
      "text/plain": [
       "<matplotlib.figure.Figure at 0x7f4b5851a2e8>"
      ]
     },
     "metadata": {},
     "output_type": "display_data"
    }
   ],
   "source": [
    "#### 8 ####\n",
    "siz = 1e4\n",
    "x = np.linspace(0, 1, siz)\n",
    "y2 = x\n",
    "y = f(x)\n",
    "zeros = np.zeros(siz)\n",
    "plt.plot(x, y)\n",
    "plt.plot(x, y2)\n",
    "plt.plot(x, zeros)\n",
    "plt.show()"
   ]
  },
  {
   "cell_type": "code",
   "execution_count": 180,
   "metadata": {
    "collapsed": false
   },
   "outputs": [],
   "source": [
    "def f(x):\n",
    "    return -2 * x ** 3 + 3 * x ** 2\n",
    "\n",
    "def g(x):\n",
    "    return f(1-x)\n",
    "\n",
    "def h(x):\n",
    "    c = 0.1\n",
    "    return (1-c) *  f(x) + c * g(x) - x"
   ]
  },
  {
   "cell_type": "code",
   "execution_count": null,
   "metadata": {
    "collapsed": true
   },
   "outputs": [],
   "source": []
  }
 ],
 "metadata": {
  "kernelspec": {
   "display_name": "Python 3",
   "language": "python",
   "name": "python3"
  },
  "language_info": {
   "codemirror_mode": {
    "name": "ipython",
    "version": 3
   },
   "file_extension": ".py",
   "mimetype": "text/x-python",
   "name": "python",
   "nbconvert_exporter": "python",
   "pygments_lexer": "ipython3",
   "version": "3.5.1+"
  }
 },
 "nbformat": 4,
 "nbformat_minor": 0
}
