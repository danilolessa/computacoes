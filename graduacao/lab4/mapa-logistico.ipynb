{
 "cells": [
  {
   "cell_type": "code",
   "execution_count": 1,
   "metadata": {
    "collapsed": true
   },
   "outputs": [],
   "source": [
    "#Simulações de um mapa logísticco\n",
    "#Danilo Lessa Bernardineli"
   ]
  },
  {
   "cell_type": "code",
   "execution_count": 2,
   "metadata": {
    "collapsed": true
   },
   "outputs": [],
   "source": [
    "#Dependências\n",
    "\n",
    "import numpy as np\n",
    "import matplotlib.pyplot as plt\n",
    "import uncertainties as unc"
   ]
  },
  {
   "cell_type": "code",
   "execution_count": 3,
   "metadata": {
    "collapsed": true
   },
   "outputs": [],
   "source": [
    "#Definições\n",
    "\n",
    "def logistic_iter(r, x):\n",
    "    return r * x * (1 - x)\n",
    "\n",
    "logistic_iter = np.vectorize(logistic_iter, otypes=[np.float])"
   ]
  },
  {
   "cell_type": "code",
   "execution_count": 4,
   "metadata": {
    "collapsed": false
   },
   "outputs": [],
   "source": [
    "#Execução\n",
    "\n",
    "N = int(2e2)\n",
    "Nx = int(1e2)\n",
    "Niter = int(1e3)\n",
    "\n",
    "x0 = np.linspace(0, 1, Nx)\n",
    "r = np.linspace(3.44, 4, N)\n",
    "xn = np.transpose(np.broadcast_to(x0, (N, Nx)))\n",
    "\n",
    "for i in range(0, Niter):\n",
    "    xn = logistic_iter(r, xn)"
   ]
  },
  {
   "cell_type": "code",
   "execution_count": 5,
   "metadata": {
    "collapsed": false
   },
   "outputs": [],
   "source": [
    "#Plotagem\n",
    "\n",
    "for xf in xn:\n",
    "    plt.plot(r, xf, 'b.', markersize=1.5)\n",
    "plt.title(\"Diagrama de bifurcação\")\n",
    "plt.suptitle(\"Atividade 2 do experimento 01 - Grupo M03 - Fis. Exp. 4\")\n",
    "plt.xlabel(\"Parâmetro de controle\")\n",
    "plt.ylabel(\"$x_n$ $(n=%s)$\" % (Niter))\n",
    "plt.show()"
   ]
  },
  {
   "cell_type": "code",
   "execution_count": 6,
   "metadata": {
    "collapsed": false
   },
   "outputs": [
    {
     "name": "stdout",
     "output_type": "stream",
     "text": [
      "Número de Feigenbaum : 4.82+/-0.04\n",
      "Teste-z: 3.58233923441\n"
     ]
    }
   ],
   "source": [
    "#Número de Feigenbaum\n",
    "\n",
    "u1 = 3\n",
    "u2 = 1 + np.sqrt(6)\n",
    "u3 = unc.ufloat(3.5428, 0.0008) #obtido por inspeção visual no gráfico\n",
    "\n",
    "feigenbaum = (u2 - u1) / (u3 - u2)\n",
    "feigenbaum_pdf = 4.6692016091029909\n",
    "\n",
    "z = np.abs((feigenbaum_pdf - feigenbaum.nominal_value) / feigenbaum.std_dev)\n",
    "print(\"Número de Feigenbaum : %s\" % (feigenbaum))\n",
    "print(\"Teste-z: %s\" % (z))"
   ]
  },
  {
   "cell_type": "code",
   "execution_count": null,
   "metadata": {
    "collapsed": true
   },
   "outputs": [],
   "source": []
  }
 ],
 "metadata": {
  "kernelspec": {
   "display_name": "Python 3",
   "language": "python",
   "name": "python3"
  },
  "language_info": {
   "codemirror_mode": {
    "name": "ipython",
    "version": 3
   },
   "file_extension": ".py",
   "mimetype": "text/x-python",
   "name": "python",
   "nbconvert_exporter": "python",
   "pygments_lexer": "ipython3",
   "version": "3.5.2"
  }
 },
 "nbformat": 4,
 "nbformat_minor": 0
}
