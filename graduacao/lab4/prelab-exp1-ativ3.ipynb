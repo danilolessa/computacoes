{
 "cells": [
  {
   "cell_type": "code",
   "execution_count": 10,
   "metadata": {
    "collapsed": true
   },
   "outputs": [],
   "source": [
    "#Dependências\n",
    "import numpy as np\n",
    "import matplotlib.pyplot as plt"
   ]
  },
  {
   "cell_type": "code",
   "execution_count": 90,
   "metadata": {
    "collapsed": false
   },
   "outputs": [
    {
     "name": "stdout",
     "output_type": "stream",
     "text": [
      "w0: 4714045.20791\tw1: 4714034.81343\tQ: 336.717514851\n"
     ]
    }
   ],
   "source": [
    "#Parâmetros\n",
    "N = 1e6\n",
    "V0 = 12 #V\n",
    "R = 14 #Ohm\n",
    "L = 1000e-6 #H\n",
    "C = 45e-12 #F\n",
    "\n",
    "#Constantes teóricas\n",
    "w0 = 1/np.sqrt(L*C)\n",
    "w1 = np.sqrt(w0 ** 2 - R ** 2 / (2 * L ** 2))\n",
    "Q = w0 * L / R\n",
    "dw = w0 / Q\n",
    "\n",
    "print(\"w0: %s\\tw1: %s\\tQ: %s\" %(w0, w1, Q))\n",
    "\n",
    "w_min = w0 - 5 * dw #rad/s\n",
    "w_max = w0 + 5 * dw  #rad/s\n",
    "w = np.linspace(w_min, w_max, N)"
   ]
  },
  {
   "cell_type": "code",
   "execution_count": 91,
   "metadata": {
    "collapsed": false
   },
   "outputs": [],
   "source": [
    "#Execução\n",
    "k = np.sqrt(R ** 2 + (w * L - 1 / (w *C)) ** 2)\n",
    "Ic = V0 / k\n",
    "Vc = V0 / (w * C * k)"
   ]
  },
  {
   "cell_type": "code",
   "execution_count": 92,
   "metadata": {
    "collapsed": true
   },
   "outputs": [],
   "source": [
    "plt.plot(w, Vc)\n",
    "plt.title(\"Ressonância no capacitor\")\n",
    "plt.xlabel(\"Frequência (rad/s)\")\n",
    "plt.xlim((w_min, w_max))\n",
    "plt.ylabel(\"Tensão no capacitor (V)\")\n",
    "plt.ticklabel_format(style='sci', axis='x', scilimits=(0,0))\n",
    "plt.show()"
   ]
  },
  {
   "cell_type": "code",
   "execution_count": 93,
   "metadata": {
    "collapsed": true
   },
   "outputs": [],
   "source": [
    "plt.plot(w, Ic)\n",
    "plt.title(\"Ressonância no capacitor\")\n",
    "plt.xlabel(\"Frequência (rad/s)\")\n",
    "plt.xlim((w_min, w_max))\n",
    "plt.ylabel(\"Corrente no capacitor (A)\")\n",
    "plt.ticklabel_format(style='sci', axis='x', scilimits=(0,0))\n",
    "plt.show()"
   ]
  },
  {
   "cell_type": "code",
   "execution_count": null,
   "metadata": {
    "collapsed": true
   },
   "outputs": [],
   "source": []
  }
 ],
 "metadata": {
  "kernelspec": {
   "display_name": "Python 3",
   "language": "python",
   "name": "python3"
  },
  "language_info": {
   "codemirror_mode": {
    "name": "ipython",
    "version": 3
   },
   "file_extension": ".py",
   "mimetype": "text/x-python",
   "name": "python",
   "nbconvert_exporter": "python",
   "pygments_lexer": "ipython3",
   "version": "3.5.2"
  }
 },
 "nbformat": 4,
 "nbformat_minor": 0
}
